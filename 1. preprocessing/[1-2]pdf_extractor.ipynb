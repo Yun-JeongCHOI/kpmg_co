{
 "cells": [
  {
   "attachments": {},
   "cell_type": "markdown",
   "metadata": {},
   "source": [
    "### Import library"
   ]
  },
  {
   "cell_type": "code",
   "execution_count": 63,
   "metadata": {},
   "outputs": [],
   "source": [
    "from adobe.pdfservices.operation.auth.credentials import Credentials\n",
    "from adobe.pdfservices.operation.exception.exceptions import ServiceApiException, ServiceUsageException, SdkException\n",
    "from adobe.pdfservices.operation.execution_context import ExecutionContext\n",
    "from adobe.pdfservices.operation.io.file_ref import FileRef\n",
    "from adobe.pdfservices.operation.pdfops.extract_pdf_operation import ExtractPDFOperation\n",
    "from adobe.pdfservices.operation.pdfops.options.extractpdf.extract_pdf_options import ExtractPDFOptions\n",
    "from adobe.pdfservices.operation.pdfops.options.extractpdf.extract_element_type import ExtractElementType\n",
    "\n",
    "import os\n",
    "import zipfile\n",
    "import json\n",
    "import pandas as pd"
   ]
  },
  {
   "cell_type": "code",
   "execution_count": 6,
   "metadata": {},
   "outputs": [],
   "source": [
    "esg_path = \"D:/jyp/kpmg_co/1. preprocessing/1-2. ESG report/\""
   ]
  },
  {
   "cell_type": "code",
   "execution_count": 43,
   "metadata": {},
   "outputs": [],
   "source": [
    "input_pdf_list = os.listdir(esg_path+'esg_report/')"
   ]
  },
  {
   "cell_type": "code",
   "execution_count": 44,
   "metadata": {},
   "outputs": [
    {
     "data": {
      "text/plain": [
       "['GSretail_2023.pdf',\n",
       " 'hyundaehomeshopping_2023.pdf',\n",
       " 'LGlife_2023.pdf',\n",
       " 'lottehi_2023.pdf',\n",
       " 'sinsegye_2023.pdf']"
      ]
     },
     "execution_count": 44,
     "metadata": {},
     "output_type": "execute_result"
    }
   ],
   "source": [
    "input_pdf_list"
   ]
  },
  {
   "cell_type": "code",
   "execution_count": 47,
   "metadata": {},
   "outputs": [],
   "source": [
    "zip_file_name_list = []\n",
    "\n",
    "for i in range(len(input_pdf_list)):\n",
    "    zip_file_name_list.append(input_pdf_list[i].replace('.pdf', ''))"
   ]
  },
  {
   "cell_type": "code",
   "execution_count": 48,
   "metadata": {},
   "outputs": [
    {
     "data": {
      "text/plain": [
       "['GSretail_2023',\n",
       " 'hyundaehomeshopping_2023',\n",
       " 'LGlife_2023',\n",
       " 'lottehi_2023',\n",
       " 'sinsegye_2023']"
      ]
     },
     "execution_count": 48,
     "metadata": {},
     "output_type": "execute_result"
    }
   ],
   "source": [
    "zip_file_name_list"
   ]
  },
  {
   "attachments": {},
   "cell_type": "markdown",
   "metadata": {},
   "source": [
    "### PDF에서 table, text, figure 추출하기"
   ]
  },
  {
   "cell_type": "code",
   "execution_count": 49,
   "metadata": {},
   "outputs": [],
   "source": [
    "\n",
    "for i in range(len(input_pdf_list)):\n",
    "    \n",
    "    # 파일 불러오기 \n",
    "    zip_file = esg_path + \"ExtractTextInfoFromPDF_{}.zip\".format(zip_file_name_list[i])\n",
    "\n",
    "    if os.path.isfile(zip_file):\n",
    "        os.remove(zip_file)\n",
    "\n",
    "    input_pdf = esg_path +\"esg_report/{}\".format(input_pdf_list[i])\n",
    "    \n",
    "    #Initial setup, create credentials instance.\n",
    "    credentials = Credentials.service_account_credentials_builder()\\\n",
    "        .from_file(esg_path+\"adobe-dc-pdf-services-sdk-extract-python-samples/pdfservices-api-credentials.json\") \\\n",
    "        .build()\n",
    "\n",
    "    #Create an ExecutionContext using credentials and create a new operation instance.\n",
    "    execution_context = ExecutionContext.create(credentials)\n",
    "    \n",
    "    extract_pdf_operation = ExtractPDFOperation.create_new()\n",
    "\n",
    "    #Set operation input from a source file.\n",
    "    source = FileRef.create_from_local_file(input_pdf)\n",
    "    extract_pdf_operation.set_input(source)\n",
    "\n",
    "    #Build ExtractPDF options and set them into the operation\n",
    "    extract_pdf_options: ExtractPDFOptions = ExtractPDFOptions.builder() \\\n",
    "        .with_element_to_extract(ExtractElementType.TEXT) \\\n",
    "        .build()\n",
    "    extract_pdf_operation.set_options(extract_pdf_options)\n",
    "    \n",
    "    #Execute the operation.\n",
    "    result: FileRef = extract_pdf_operation.execute(execution_context)\n",
    "\n",
    "    #Save the result to the specified location.\n",
    "    result.save_as(zip_file)"
   ]
  },
  {
   "attachments": {},
   "cell_type": "markdown",
   "metadata": {},
   "source": [
    "### esg 관련 문장 추출 및 csv로 저장"
   ]
  },
  {
   "cell_type": "code",
   "execution_count": 96,
   "metadata": {},
   "outputs": [],
   "source": [
    "for i in range(len(input_pdf_list)):\n",
    "    output_zip = esg_path +\"ExtractTextInfoFromPDF_{}.zip\".format(zip_file_name_list[i])\n",
    "    archive = zipfile.ZipFile(output_zip, 'r')\n",
    "    jsonentry = archive.open('structuredData.json')\n",
    "    jsondata = jsonentry.read()\n",
    "    data = json.loads(jsondata)\n",
    "    empty_df = []\n",
    "    empty_df_2 = []\n",
    "\n",
    "    for j in range(len(data[\"elements\"])):\n",
    "        if 'Text' in data[\"elements\"][j]:\n",
    "            if len(data[\"elements\"][j]['Text']) > 50:\n",
    "                empty_df.append(data[\"elements\"][j]['Text'])\n",
    "            else:\n",
    "                pass\n",
    "        else:\n",
    "            pass\n",
    "\n",
    "    for k in range(len(empty_df)):\n",
    "        if '' in empty_df[k]:\n",
    "            pass\n",
    "        else : \n",
    "            empty_df_2.append(empty_df[k])\n",
    "            \n",
    "    str_df = pd.DataFrame(empty_df_2, columns=['text'])\n",
    "    \n",
    "    # output 폴더 없으면 만들기 \n",
    "    if not os.path.isdir(esg_path + 'output/'):\n",
    "        os.mkdir(esg_path + 'output/')\n",
    "    str_df.to_csv(esg_path + 'output/'+\"ESG_text_{}.csv\".format(zip_file_name_list[i]), index=False, encoding='utf-8-sig')"
   ]
  },
  {
   "cell_type": "code",
   "execution_count": 90,
   "metadata": {},
   "outputs": [],
   "source": [
    "str_df = pd.DataFrame(empty_df_2, columns=['text'])"
   ]
  },
  {
   "cell_type": "code",
   "execution_count": 91,
   "metadata": {},
   "outputs": [
    {
     "data": {
      "text/html": [
       "<div>\n",
       "<style scoped>\n",
       "    .dataframe tbody tr th:only-of-type {\n",
       "        vertical-align: middle;\n",
       "    }\n",
       "\n",
       "    .dataframe tbody tr th {\n",
       "        vertical-align: top;\n",
       "    }\n",
       "\n",
       "    .dataframe thead th {\n",
       "        text-align: right;\n",
       "    }\n",
       "</style>\n",
       "<table border=\"1\" class=\"dataframe\">\n",
       "  <thead>\n",
       "    <tr style=\"text-align: right;\">\n",
       "      <th></th>\n",
       "      <th>text</th>\n",
       "    </tr>\n",
       "  </thead>\n",
       "  <tbody>\n",
       "    <tr>\n",
       "      <th>0</th>\n",
       "      <td>이사회는 최고의사결정기구로 회사 경영 기본방침 및 중요사항을 의결하 고 있으며 사내...</td>\n",
       "    </tr>\n",
       "    <tr>\n",
       "      <th>1</th>\n",
       "      <td>칙으로 합니다. 필요시 임시이사회1)를 개최하여 운영하고, 이사회 결의는 정 함이 ...</td>\n",
       "    </tr>\n",
       "    <tr>\n",
       "      <th>2</th>\n",
       "      <td>사내이사는 상법 제382조에 따라 주주총회에서 선임하며, 사내이사는 이사 회에서 경...</td>\n",
       "    </tr>\n",
       "    <tr>\n",
       "      <th>3</th>\n",
       "      <td>이사 선임 시 금융, 법률, 회계 등 관련분야 전문지식과 실무경험이 풍부한 자 로 ...</td>\n",
       "    </tr>\n",
       "    <tr>\n",
       "      <th>4</th>\n",
       "      <td>경영진과 지배주주로부터 독립적 이사회 기능을 수행할 수 있도록, 정관 제 26조에 ...</td>\n",
       "    </tr>\n",
       "    <tr>\n",
       "      <th>...</th>\n",
       "      <td>...</td>\n",
       "    </tr>\n",
       "    <tr>\n",
       "      <th>79</th>\n",
       "      <td>이 실무에서도 공정거래 준수를 생활화할 수 있도록 2021년 반기 1회 공정거 래 ...</td>\n",
       "    </tr>\n",
       "    <tr>\n",
       "      <th>80</th>\n",
       "      <td>롯데하이마트는 파트너사와 환경 및 안전 관련 파트너십을 구축하여 환경영 향 최소화를...</td>\n",
       "    </tr>\n",
       "    <tr>\n",
       "      <th>81</th>\n",
       "      <td>유해화학물질의 안전한 관리와 유출 방지를 위해 파트너사에 대한 지속적인 교육 및 점...</td>\n",
       "    </tr>\n",
       "    <tr>\n",
       "      <th>82</th>\n",
       "      <td>환경 유해물질을 배출할 가능성이 있는 파트너사를 대상으로 연 1회 안전환 경 교육 ...</td>\n",
       "    </tr>\n",
       "    <tr>\n",
       "      <th>83</th>\n",
       "      <td>파트너사의 환경성과 평가는 파트너사 ESG 지원사업 내에서 진행되고 있습 니다. 파...</td>\n",
       "    </tr>\n",
       "  </tbody>\n",
       "</table>\n",
       "<p>84 rows × 1 columns</p>\n",
       "</div>"
      ],
      "text/plain": [
       "                                                 text\n",
       "0   이사회는 최고의사결정기구로 회사 경영 기본방침 및 중요사항을 의결하 고 있으며 사내...\n",
       "1   칙으로 합니다. 필요시 임시이사회1)를 개최하여 운영하고, 이사회 결의는 정 함이 ...\n",
       "2   사내이사는 상법 제382조에 따라 주주총회에서 선임하며, 사내이사는 이사 회에서 경...\n",
       "3   이사 선임 시 금융, 법률, 회계 등 관련분야 전문지식과 실무경험이 풍부한 자 로 ...\n",
       "4   경영진과 지배주주로부터 독립적 이사회 기능을 수행할 수 있도록, 정관 제 26조에 ...\n",
       "..                                                ...\n",
       "79  이 실무에서도 공정거래 준수를 생활화할 수 있도록 2021년 반기 1회 공정거 래 ...\n",
       "80  롯데하이마트는 파트너사와 환경 및 안전 관련 파트너십을 구축하여 환경영 향 최소화를...\n",
       "81  유해화학물질의 안전한 관리와 유출 방지를 위해 파트너사에 대한 지속적인 교육 및 점...\n",
       "82  환경 유해물질을 배출할 가능성이 있는 파트너사를 대상으로 연 1회 안전환 경 교육 ...\n",
       "83  파트너사의 환경성과 평가는 파트너사 ESG 지원사업 내에서 진행되고 있습 니다. 파...\n",
       "\n",
       "[84 rows x 1 columns]"
      ]
     },
     "execution_count": 91,
     "metadata": {},
     "output_type": "execute_result"
    }
   ],
   "source": [
    "str_df"
   ]
  },
  {
   "cell_type": "code",
   "execution_count": null,
   "metadata": {},
   "outputs": [],
   "source": []
  }
 ],
 "metadata": {
  "kernelspec": {
   "display_name": "crawler",
   "language": "python",
   "name": "python3"
  },
  "language_info": {
   "codemirror_mode": {
    "name": "ipython",
    "version": 3
   },
   "file_extension": ".py",
   "mimetype": "text/x-python",
   "name": "python",
   "nbconvert_exporter": "python",
   "pygments_lexer": "ipython3",
   "version": "3.8.0"
  },
  "orig_nbformat": 4,
  "vscode": {
   "interpreter": {
    "hash": "4d11051c08c60b420006961d4129f6df51068c7dc4cc5e9a33bb00fb5d53a8a0"
   }
  }
 },
 "nbformat": 4,
 "nbformat_minor": 2
}
