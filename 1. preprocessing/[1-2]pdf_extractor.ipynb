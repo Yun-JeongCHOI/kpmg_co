{
 "cells": [
  {
   "attachments": {},
   "cell_type": "markdown",
   "metadata": {},
   "source": [
    "### Import library"
   ]
  },
  {
   "cell_type": "code",
   "execution_count": 2,
   "metadata": {},
   "outputs": [],
   "source": [
    "from adobe.pdfservices.operation.auth.credentials import Credentials\n",
    "from adobe.pdfservices.operation.exception.exceptions import ServiceApiException, ServiceUsageException, SdkException\n",
    "from adobe.pdfservices.operation.execution_context import ExecutionContext\n",
    "from adobe.pdfservices.operation.io.file_ref import FileRef\n",
    "from adobe.pdfservices.operation.pdfops.extract_pdf_operation import ExtractPDFOperation\n",
    "from adobe.pdfservices.operation.pdfops.options.extractpdf.extract_pdf_options import ExtractPDFOptions\n",
    "from adobe.pdfservices.operation.pdfops.options.extractpdf.extract_element_type import ExtractElementType\n",
    "\n",
    "import os\n",
    "import zipfile\n",
    "import json\n",
    "import pandas as pd"
   ]
  },
  {
   "cell_type": "code",
   "execution_count": 3,
   "metadata": {},
   "outputs": [],
   "source": [
    "esg_path = \"./1-2. ESG report/\""
   ]
  },
  {
   "cell_type": "code",
   "execution_count": 10,
   "metadata": {},
   "outputs": [],
   "source": [
    "input_pdf_list = os.listdir(esg_path+'esg_report/')"
   ]
  },
  {
   "cell_type": "code",
   "execution_count": 11,
   "metadata": {},
   "outputs": [
    {
     "data": {
      "text/plain": [
       "['GSretail_2023.pdf',\n",
       " 'hyundaehomeshopping_2023.pdf',\n",
       " 'LGlife_2023.pdf',\n",
       " 'lottehi_2023.pdf',\n",
       " 'sinsegye_2023.pdf']"
      ]
     },
     "execution_count": 11,
     "metadata": {},
     "output_type": "execute_result"
    }
   ],
   "source": [
    "input_pdf_list"
   ]
  },
  {
   "cell_type": "code",
   "execution_count": 6,
   "metadata": {},
   "outputs": [],
   "source": [
    "zip_file_name_list = []\n",
    "\n",
    "for i in range(len(input_pdf_list)):\n",
    "    zip_file_name_list.append(input_pdf_list[i].replace('.pdf', ''))"
   ]
  },
  {
   "cell_type": "code",
   "execution_count": 7,
   "metadata": {},
   "outputs": [
    {
     "data": {
      "text/plain": [
       "['GSretail_2023',\n",
       " 'hyundaehomeshopping_2023',\n",
       " 'LGlife_2023',\n",
       " 'lottehi_2023',\n",
       " 'sinsegye_2023']"
      ]
     },
     "execution_count": 7,
     "metadata": {},
     "output_type": "execute_result"
    }
   ],
   "source": [
    "zip_file_name_list"
   ]
  },
  {
   "attachments": {},
   "cell_type": "markdown",
   "metadata": {},
   "source": [
    "### PDF에서 table, text, figure 추출하기"
   ]
  },
  {
   "cell_type": "code",
   "execution_count": 8,
   "metadata": {},
   "outputs": [],
   "source": [
    "\n",
    "for i in range(len(input_pdf_list)):\n",
    "    \n",
    "    # 파일 불러오기 \n",
    "    zip_file = esg_path + \"ExtractTextInfoFromPDF_{}.zip\".format(zip_file_name_list[i])\n",
    "\n",
    "    if os.path.isfile(zip_file):\n",
    "        os.remove(zip_file)\n",
    "\n",
    "    input_pdf = esg_path +\"esg_report/{}\".format(input_pdf_list[i])\n",
    "    \n",
    "    #Initial setup, create credentials instance.\n",
    "    credentials = Credentials.service_account_credentials_builder()\\\n",
    "        .from_file(esg_path+\"adobe-dc-pdf-services-sdk-extract-python-samples/pdfservices-api-credentials.json\") \\\n",
    "        .build()\n",
    "\n",
    "    #Create an ExecutionContext using credentials and create a new operation instance.\n",
    "    execution_context = ExecutionContext.create(credentials)\n",
    "    \n",
    "    extract_pdf_operation = ExtractPDFOperation.create_new()\n",
    "\n",
    "    #Set operation input from a source file.\n",
    "    source = FileRef.create_from_local_file(input_pdf)\n",
    "    extract_pdf_operation.set_input(source)\n",
    "\n",
    "    #Build ExtractPDF options and set them into the operation\n",
    "    extract_pdf_options: ExtractPDFOptions = ExtractPDFOptions.builder() \\\n",
    "        .with_element_to_extract(ExtractElementType.TEXT) \\\n",
    "        .build()\n",
    "    extract_pdf_operation.set_options(extract_pdf_options)\n",
    "    \n",
    "    #Execute the operation.\n",
    "    result: FileRef = extract_pdf_operation.execute(execution_context)\n",
    "\n",
    "    #Save the result to the specified location.\n",
    "    result.save_as(zip_file)"
   ]
  },
  {
   "attachments": {},
   "cell_type": "markdown",
   "metadata": {},
   "source": [
    "### esg 관련 문장 추출 및 csv로 저장"
   ]
  },
  {
   "cell_type": "code",
   "execution_count": 9,
   "metadata": {},
   "outputs": [],
   "source": [
    "# 각 e/s/g 별 추출을 위한 페이지 설정\n",
    "dict = {\n",
    "    'GSretail_2023':[range(7,18), range(18,34),range(2,7)],\n",
    "    'hyundaehomeshopping_2023' : [range(6,16), range(16,32), range(2,6)],\n",
    "    'LGlife_2023' : [range(5,22), range(22,53), range(2,5)],\n",
    "    'lottehi_2023' : [range(5,14), range(14,32), range(2,5)],\n",
    "    'sinsegye_2023' : [range(6,18), range(18,35), range(2,6)],\n",
    "}"
   ]
  },
  {
   "cell_type": "code",
   "execution_count": 18,
   "metadata": {},
   "outputs": [],
   "source": [
    "for i in range(len(input_pdf_list)):\n",
    "    output_zip = esg_path +\"ExtractTextInfoFromPDF_{}.zip\".format(zip_file_name_list[i])\n",
    "    archive = zipfile.ZipFile(output_zip, 'r')\n",
    "    jsonentry = archive.open('structuredData.json')\n",
    "    jsondata = jsonentry.read()\n",
    "    data = json.loads(jsondata)\n",
    "    empty_df = []\n",
    "    empty_df_2 = []\n",
    "    name = input_pdf_list[i].replace('.pdf', '')\n",
    "    \n",
    "    for j in range(len(data[\"elements\"])):\n",
    "        if 'Text' in data[\"elements\"][j]:\n",
    "            if len(data[\"elements\"][j]['Text']) > 50:\n",
    "                page = data[\"elements\"][j]['Page']\n",
    "                if page in dict[name][0]:\n",
    "                    empty_df.append((data[\"elements\"][j]['Text'],'e'))\n",
    "                elif page in dict[name][1]:\n",
    "                    empty_df.append((data[\"elements\"][j]['Text'],'s'))\n",
    "                elif page in dict[name][2]:\n",
    "                    empty_df.append((data[\"elements\"][j]['Text'],'g'))\n",
    "                else:\n",
    "                    pass\n",
    "            else:\n",
    "                pass\n",
    "        else:\n",
    "            pass\n",
    "\n",
    "    for k in range(len(empty_df)):\n",
    "        if '' in empty_df[k]:\n",
    "            pass\n",
    "        else : \n",
    "            empty_df_2.append(empty_df[k])\n",
    "            \n",
    "    str_df = pd.DataFrame(empty_df_2, columns=['text', 'label'])\n",
    "    \n",
    "    # output 폴더 없으면 만들기 \n",
    "    if not os.path.isdir(esg_path + 'output/'):\n",
    "        os.mkdir(esg_path + 'output/')\n",
    "    str_df.to_csv(esg_path + 'output/'+\"ESG_text_{}.csv\".format(zip_file_name_list[i]), index=False, encoding='utf-8-sig')"
   ]
  }
 ],
 "metadata": {
  "kernelspec": {
   "display_name": "Python 3",
   "language": "python",
   "name": "python3"
  },
  "language_info": {
   "codemirror_mode": {
    "name": "ipython",
    "version": 3
   },
   "file_extension": ".py",
   "mimetype": "text/x-python",
   "name": "python",
   "nbconvert_exporter": "python",
   "pygments_lexer": "ipython3",
   "version": "3.7.6"
  },
  "orig_nbformat": 4,
  "vscode": {
   "interpreter": {
    "hash": "ec8dee48dbbcaba4ab33c211cc3985cb6ada4ac8ebaeb72c3fb14197585c2120"
   }
  }
 },
 "nbformat": 4,
 "nbformat_minor": 2
}
