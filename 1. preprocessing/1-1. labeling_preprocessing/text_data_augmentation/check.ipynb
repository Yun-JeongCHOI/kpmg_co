{
 "cells": [
  {
   "cell_type": "code",
   "execution_count": 16,
   "metadata": {},
   "outputs": [],
   "source": [
    "import pandas as pd\n",
    "import os"
   ]
  },
  {
   "cell_type": "code",
   "execution_count": 17,
   "metadata": {},
   "outputs": [],
   "source": [
    "root = os.getcwd()\n",
    "file = root + '/esg_data_for_dtar.csv'\n",
    "file_1 = root + '/esg_train.csv'\n",
    "\n",
    "df = pd.read_csv(file, encoding='utf-8')\n",
    "df_1 = pd.read_csv(file_1, encoding='utf-8')"
   ]
  },
  {
   "cell_type": "code",
   "execution_count": 18,
   "metadata": {},
   "outputs": [
    {
     "data": {
      "text/plain": [
       "2    16804\n",
       "0    16126\n",
       "1    15143\n",
       "3    13328\n",
       "Name: label, dtype: int64"
      ]
     },
     "execution_count": 18,
     "metadata": {},
     "output_type": "execute_result"
    }
   ],
   "source": [
    "# df 라벨 개수 세기\n",
    "df['label'].value_counts()"
   ]
  },
  {
   "cell_type": "code",
   "execution_count": 19,
   "metadata": {},
   "outputs": [
    {
     "data": {
      "text/plain": [
       "0      16219\n",
       "2       1991\n",
       "3        643\n",
       "1        629\n",
       "nan        4\n",
       "4          1\n",
       "Name: label, dtype: int64"
      ]
     },
     "execution_count": 19,
     "metadata": {},
     "output_type": "execute_result"
    }
   ],
   "source": [
    "# df_1 라벨 string으로 바꾸기\n",
    "df_1['label'] = df_1['label'].astype(str)\n",
    "\n",
    "# df_1['label'] '.' 라벨 제거\n",
    "df_1 = df_1[df_1['label'] != '.']\n",
    "\n",
    "# df_1['label']에서 4를 1로 바꾸기 \n",
    "df_1['label'] = df_1['label'].replace('4', '1')\n",
    "# df_1['label']에서 5을 2로 바꾸기\n",
    "df_1['label'] = df_1['label'].replace('5', '2')\n",
    "# df_1['label']에서 6을 3로 바꾸기\n",
    "df_1['label'] = df_1['label'].replace('6', '3')\n",
    "# df_1['label']에서 3?을 3로 바꾸기\n",
    "df_1['label'] = df_1['label'].replace('3?', '3')\n",
    "# df_1['label']에서 20을 2로 바꾸기\n",
    "df_1['label'] = df_1['label'].replace('20', '2')\n",
    "# df_1['label']에서 44을 4로 바꾸기\n",
    "df_1['label'] = df_1['label'].replace('44', '4')\n",
    "\n",
    "df_1['label'].value_counts()"
   ]
  },
  {
   "cell_type": "code",
   "execution_count": null,
   "metadata": {},
   "outputs": [],
   "source": []
  }
 ],
 "metadata": {
  "kernelspec": {
   "display_name": "bk",
   "language": "python",
   "name": "python3"
  },
  "language_info": {
   "codemirror_mode": {
    "name": "ipython",
    "version": 3
   },
   "file_extension": ".py",
   "mimetype": "text/x-python",
   "name": "python",
   "nbconvert_exporter": "python",
   "pygments_lexer": "ipython3",
   "version": "3.8.13"
  },
  "orig_nbformat": 4,
  "vscode": {
   "interpreter": {
    "hash": "5bee82f1aa4c2a7f2905b2bb19edba8ddd243e499f23a2172eda27cb9b9b8967"
   }
  }
 },
 "nbformat": 4,
 "nbformat_minor": 2
}
