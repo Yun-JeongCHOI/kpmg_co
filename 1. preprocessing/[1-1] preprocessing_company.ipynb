{
 "cells": [
  {
   "cell_type": "code",
   "execution_count": 1,
   "metadata": {},
   "outputs": [],
   "source": [
    "import pandas as pd\n",
    "import os"
   ]
  },
  {
   "cell_type": "code",
   "execution_count": 4,
   "metadata": {},
   "outputs": [],
   "source": [
    "path = \"D:/jyp/naver_news_2/esg/lg/\"\n",
    "file_list = os.listdir(path)"
   ]
  },
  {
   "cell_type": "code",
   "execution_count": 332,
   "metadata": {},
   "outputs": [],
   "source": [
    "empty_df = pd.DataFrame()\n",
    "for i in file_list:\n",
    "    df = pd.read_csv(path + '{}'.format(i))\n",
    "    df = df.drop(['Unnamed: 0'], axis=1)\n",
    "    empty_df = empty_df.append(df, ignore_index=True)"
   ]
  },
  {
   "cell_type": "code",
   "execution_count": 336,
   "metadata": {},
   "outputs": [],
   "source": [
    "outputFileName = 'lg_raw.csv'\n",
    "empty_df.to_csv(path+outputFileName)"
   ]
  },
  {
   "attachments": {},
   "cell_type": "markdown",
   "metadata": {},
   "source": [
    "### 전처리"
   ]
  },
  {
   "cell_type": "code",
   "execution_count": 2,
   "metadata": {},
   "outputs": [],
   "source": [
    "path = \"D:/jyp/naver_news_2/esg/sin/\"\n",
    "pre_df = pd.read_csv(path + 'output/'+'sin_pre.csv')"
   ]
  },
  {
   "cell_type": "code",
   "execution_count": 3,
   "metadata": {},
   "outputs": [],
   "source": [
    "pre_df = pre_df.drop(['Unnamed: 0'], axis=1)"
   ]
  },
  {
   "cell_type": "code",
   "execution_count": 4,
   "metadata": {},
   "outputs": [
    {
     "data": {
      "text/html": [
       "<div>\n",
       "<style scoped>\n",
       "    .dataframe tbody tr th:only-of-type {\n",
       "        vertical-align: middle;\n",
       "    }\n",
       "\n",
       "    .dataframe tbody tr th {\n",
       "        vertical-align: top;\n",
       "    }\n",
       "\n",
       "    .dataframe thead th {\n",
       "        text-align: right;\n",
       "    }\n",
       "</style>\n",
       "<table border=\"1\" class=\"dataframe\">\n",
       "  <thead>\n",
       "    <tr style=\"text-align: right;\">\n",
       "      <th></th>\n",
       "      <th>date</th>\n",
       "      <th>title</th>\n",
       "      <th>contents</th>\n",
       "    </tr>\n",
       "  </thead>\n",
       "  <tbody>\n",
       "    <tr>\n",
       "      <th>0</th>\n",
       "      <td>2023-01-15</td>\n",
       "      <td>\"불편함이 경쟁력 … 역발상 지혜로 원도심 미래비전 제시\"</td>\n",
       "      <td>더욱 긴밀하게 소통하며 그린벨트 해제에 힘쓸 예정이다. 또 지역주택조합 사업 및 재...</td>\n",
       "    </tr>\n",
       "    <tr>\n",
       "      <th>1</th>\n",
       "      <td>2023-01-15</td>\n",
       "      <td>어등산 ‘스타필드 광주’ 행정 검토 본격화</td>\n",
       "      <td>/신세계프라퍼티 제공광주시가 신세계그룹의 ‘스타필드 광주’ 건립과 현 백화점 확장을...</td>\n",
       "    </tr>\n",
       "    <tr>\n",
       "      <th>2</th>\n",
       "      <td>2023-01-15</td>\n",
       "      <td>광주시, '스타필드 건립*백화점 확장' 논의</td>\n",
       "      <td>광주시가 스타필드 건립과 백화점 확장을 동시에 진행하는 신세계측 제안과 관련해 공식...</td>\n",
       "    </tr>\n",
       "    <tr>\n",
       "      <th>3</th>\n",
       "      <td>2023-01-15</td>\n",
       "      <td>'친환경 패키지'로 설 선물세트 쓰레기 줄인다</td>\n",
       "      <td>15일 유통가에 따르면 롯데, 현대, 신세계 백화점 3사는 선물 세트에 친환경 패키...</td>\n",
       "    </tr>\n",
       "    <tr>\n",
       "      <th>4</th>\n",
       "      <td>2023-01-15</td>\n",
       "      <td>‘발효곳간’ 전통주 선물세트</td>\n",
       "      <td>신세계백화점이 설 명절을 맞아 전 점포에서 ‘발효곳간’ 전통주 선물 세트를 선보인다...</td>\n",
       "    </tr>\n",
       "    <tr>\n",
       "      <th>...</th>\n",
       "      <td>...</td>\n",
       "      <td>...</td>\n",
       "      <td>...</td>\n",
       "    </tr>\n",
       "    <tr>\n",
       "      <th>276492</th>\n",
       "      <td>2020-01-01</td>\n",
       "      <td>'맛남의 광장' 백종원, 장수 사과농과 방문 \"싹 사주시면 좋아하시겠냐\"</td>\n",
       "      <td>백종원이 신세계 정용진 부회장을 우회적으로 언급했다. 최근 방송된 SBS 예능 프로...</td>\n",
       "    </tr>\n",
       "    <tr>\n",
       "      <th>276493</th>\n",
       "      <td>2020-01-01</td>\n",
       "      <td>사망재해·산재은폐 등 산업안전보건법 위반 1420곳 공표</td>\n",
       "      <td>이에 해당하는 도급인 사업장은 △현대엘리베이터 동아일보대전사옥 공사현장 △신세계건설...</td>\n",
       "    </tr>\n",
       "    <tr>\n",
       "      <th>276494</th>\n",
       "      <td>2020-01-01</td>\n",
       "      <td>[재계 10인 관상] 이재용 정의선 최태원…한국경제 빛낼 사람 ‘나야 나’</td>\n",
       "      <td>정용진 신세계그룹 부회장. [사진=신세계 제공] ●정용진 신세계그룹 부회장=만인의 ...</td>\n",
       "    </tr>\n",
       "    <tr>\n",
       "      <th>276495</th>\n",
       "      <td>2020-01-01</td>\n",
       "      <td>롯데마트 통큰절·이마트 초탄일…새해 첫날 초대형 할인전 열린다</td>\n",
       "      <td>지난해 11월 2일 신세계그룹이 벌였던 대규모 할인 행사인 ‘쓱데이’의 이마트판이다...</td>\n",
       "    </tr>\n",
       "    <tr>\n",
       "      <th>276496</th>\n",
       "      <td>2020-01-01</td>\n",
       "      <td>[편리미엄] 손가락 하나 ‘까딱’…총알배송·진수성찬이 ‘뚝딱’</td>\n",
       "      <td>2019년 들어서도 GS리테일과 신세계그룹 통합 온라인몰인 쓱닷컴(SSG.COM)이...</td>\n",
       "    </tr>\n",
       "  </tbody>\n",
       "</table>\n",
       "<p>276497 rows × 3 columns</p>\n",
       "</div>"
      ],
      "text/plain": [
       "              date                                      title  \\\n",
       "0       2023-01-15           \"불편함이 경쟁력 … 역발상 지혜로 원도심 미래비전 제시\"   \n",
       "1       2023-01-15                    어등산 ‘스타필드 광주’ 행정 검토 본격화   \n",
       "2       2023-01-15                   광주시, '스타필드 건립*백화점 확장' 논의   \n",
       "3       2023-01-15                  '친환경 패키지'로 설 선물세트 쓰레기 줄인다   \n",
       "4       2023-01-15                            ‘발효곳간’ 전통주 선물세트   \n",
       "...            ...                                        ...   \n",
       "276492  2020-01-01   '맛남의 광장' 백종원, 장수 사과농과 방문 \"싹 사주시면 좋아하시겠냐\"   \n",
       "276493  2020-01-01            사망재해·산재은폐 등 산업안전보건법 위반 1420곳 공표   \n",
       "276494  2020-01-01  [재계 10인 관상] 이재용 정의선 최태원…한국경제 빛낼 사람 ‘나야 나’   \n",
       "276495  2020-01-01         롯데마트 통큰절·이마트 초탄일…새해 첫날 초대형 할인전 열린다   \n",
       "276496  2020-01-01         [편리미엄] 손가락 하나 ‘까딱’…총알배송·진수성찬이 ‘뚝딱’   \n",
       "\n",
       "                                                 contents  \n",
       "0       더욱 긴밀하게 소통하며 그린벨트 해제에 힘쓸 예정이다. 또 지역주택조합 사업 및 재...  \n",
       "1       /신세계프라퍼티 제공광주시가 신세계그룹의 ‘스타필드 광주’ 건립과 현 백화점 확장을...  \n",
       "2       광주시가 스타필드 건립과 백화점 확장을 동시에 진행하는 신세계측 제안과 관련해 공식...  \n",
       "3       15일 유통가에 따르면 롯데, 현대, 신세계 백화점 3사는 선물 세트에 친환경 패키...  \n",
       "4       신세계백화점이 설 명절을 맞아 전 점포에서 ‘발효곳간’ 전통주 선물 세트를 선보인다...  \n",
       "...                                                   ...  \n",
       "276492  백종원이 신세계 정용진 부회장을 우회적으로 언급했다. 최근 방송된 SBS 예능 프로...  \n",
       "276493  이에 해당하는 도급인 사업장은 △현대엘리베이터 동아일보대전사옥 공사현장 △신세계건설...  \n",
       "276494  정용진 신세계그룹 부회장. [사진=신세계 제공] ●정용진 신세계그룹 부회장=만인의 ...  \n",
       "276495  지난해 11월 2일 신세계그룹이 벌였던 대규모 할인 행사인 ‘쓱데이’의 이마트판이다...  \n",
       "276496  2019년 들어서도 GS리테일과 신세계그룹 통합 온라인몰인 쓱닷컴(SSG.COM)이...  \n",
       "\n",
       "[276497 rows x 3 columns]"
      ]
     },
     "execution_count": 4,
     "metadata": {},
     "output_type": "execute_result"
    }
   ],
   "source": [
    "pre_df = pre_df.reset_index(drop=True)\n",
    "pre_df"
   ]
  },
  {
   "cell_type": "code",
   "execution_count": 25,
   "metadata": {},
   "outputs": [],
   "source": [
    "###############################################################################################################\n",
    "# 전처리할 키워드를 넣는 곳입니다. if 옆에 있는 '포토'를 원하는 키워드로 바꿔주세요.\n",
    "# 한번에 여러 키워드를 지정하고 싶다면, or을 사용하면 됩니다.\n",
    "# ex) if '포토' or '사진' in pre_df['title'][j]:\n",
    "# 이런 식으로 하면, 포토와 사진이라는 키워드가 들어간 기사들이 전부 제거됩니다.\n",
    "# 한번에 잘 제거가 되지 않으니 2-4번 정도 돌려주세요.(\"KeyError\" 오류가 계속 뜬다면 다 제거 된 것이 아니고, 만약 오류가 안 뜬다면 모두 제거가 된 것입니다.)\n",
    "# 한번 돌리실 때 마다 , 위에 있는 셀을 실행해주셔서 rows 개수가 줄어든 것을 확인해주시고, 다시 해당 셀을 실행해주세요. \n",
    "###############################################################################################################\n",
    "\n",
    "for j in range(len(pre_df['title'])):\n",
    "    if '김새론' in pre_df['title'][j]:\n",
    "        # j 행 제거 후, 인덱스 재정렬\n",
    "        pre_df = pre_df.drop(j)\n",
    "        pre_df = pre_df.reset_index(drop=True)\n",
    "        print(j)"
   ]
  },
  {
   "cell_type": "code",
   "execution_count": 74,
   "metadata": {},
   "outputs": [],
   "source": [
    "# 저장할 파일 이름을 지정해주시면 됩니다.\n",
    "\n",
    "outputFileName = 'sin_pre.csv'\n",
    "\n",
    "# path에 'output' 폴더 만들기   \n",
    "if not os.path.exists(path+'output'):\n",
    "    os.makedirs(path+'output')\n",
    "\n",
    "pre_df.to_csv(path+'output/'+outputFileName)"
   ]
  },
  {
   "cell_type": "code",
   "execution_count": null,
   "metadata": {},
   "outputs": [],
   "source": []
  }
 ],
 "metadata": {
  "kernelspec": {
   "display_name": "crawler",
   "language": "python",
   "name": "python3"
  },
  "language_info": {
   "codemirror_mode": {
    "name": "ipython",
    "version": 3
   },
   "file_extension": ".py",
   "mimetype": "text/x-python",
   "name": "python",
   "nbconvert_exporter": "python",
   "pygments_lexer": "ipython3",
   "version": "3.8.0"
  },
  "orig_nbformat": 4,
  "vscode": {
   "interpreter": {
    "hash": "4d11051c08c60b420006961d4129f6df51068c7dc4cc5e9a33bb00fb5d53a8a0"
   }
  }
 },
 "nbformat": 4,
 "nbformat_minor": 2
}
