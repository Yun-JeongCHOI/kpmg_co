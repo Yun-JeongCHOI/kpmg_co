{
 "cells": [
  {
   "attachments": {},
   "cell_type": "markdown",
   "metadata": {},
   "source": [
    "## import library"
   ]
  },
  {
   "cell_type": "code",
   "execution_count": 1,
   "metadata": {},
   "outputs": [],
   "source": [
    "import pandas as pd\n",
    "import os\n",
    "import matplotlib.pyplot as plt\n",
    "from matplotlib import font_manager, rc\n",
    "\n",
    "from gensim.models import Word2Vec\n",
    "from sklearn.metrics.pairwise import cosine_similarity\n",
    "\n",
    "# df['summary]와 df['keyword']를 python 기반 한국어 토크나이저를 불러와서 토큰화\n",
    "from konlpy.tag import Okt\n",
    "from sklearn.decomposition import PCA"
   ]
  },
  {
   "cell_type": "code",
   "execution_count": 2,
   "metadata": {},
   "outputs": [
    {
     "data": {
      "text/plain": [
       "['final_test_gs_analysis.csv',\n",
       " 'final_test_hyun_analysis.csv',\n",
       " 'final_test_lg_analysis.csv',\n",
       " 'final_test_lot_analysis.csv',\n",
       " 'final_test_sin_analysis.csv']"
      ]
     },
     "execution_count": 2,
     "metadata": {},
     "output_type": "execute_result"
    }
   ],
   "source": [
    "# 현재 파일 위치\n",
    "path = os.getcwd() + '/2-3. 키워드 별 유사도 도출/output/merge/'\n",
    "with open(os.getcwd() + '/stopwords.txt', 'r', encoding='cp949') as f:\n",
    "    stopwords = f.readlines()\n",
    "\n",
    "okt = Okt()\n",
    "\n",
    "# path 내 파일 리스트 출력\n",
    "file_list = os.listdir(path)\n",
    "file_list"
   ]
  },
  {
   "cell_type": "code",
   "execution_count": 104,
   "metadata": {},
   "outputs": [
    {
     "data": {
      "text/html": [
       "<div>\n",
       "<style scoped>\n",
       "    .dataframe tbody tr th:only-of-type {\n",
       "        vertical-align: middle;\n",
       "    }\n",
       "\n",
       "    .dataframe tbody tr th {\n",
       "        vertical-align: top;\n",
       "    }\n",
       "\n",
       "    .dataframe thead th {\n",
       "        text-align: right;\n",
       "    }\n",
       "</style>\n",
       "<table border=\"1\" class=\"dataframe\">\n",
       "  <thead>\n",
       "    <tr style=\"text-align: right;\">\n",
       "      <th></th>\n",
       "      <th>date</th>\n",
       "      <th>abstract</th>\n",
       "      <th>pre_label</th>\n",
       "      <th>sentiment</th>\n",
       "      <th>score</th>\n",
       "      <th>sent_range</th>\n",
       "      <th>model_keyword</th>\n",
       "      <th>corpus_keyword</th>\n",
       "    </tr>\n",
       "  </thead>\n",
       "  <tbody>\n",
       "    <tr>\n",
       "      <th>0</th>\n",
       "      <td>2023-01-13</td>\n",
       "      <td>“5천원부터 그냥 줍니다” 27만명이나 챙긴 ‘용돈벌이’ 몰랐어? [지구, 뭐......</td>\n",
       "      <td>1</td>\n",
       "      <td>0</td>\n",
       "      <td>2.529453</td>\n",
       "      <td>보통부정</td>\n",
       "      <td>갤러리아백화점 롯데백화점</td>\n",
       "      <td></td>\n",
       "    </tr>\n",
       "    <tr>\n",
       "      <th>1</th>\n",
       "      <td>2023-01-13</td>\n",
       "      <td>폭탄세일 때만 손님 몰려…'행사 대박'에도 웃지 못하는 마트 신동빈 롯데 회장과 정...</td>\n",
       "      <td>0</td>\n",
       "      <td>0</td>\n",
       "      <td>1.818684</td>\n",
       "      <td>중립</td>\n",
       "      <td>0</td>\n",
       "      <td>0</td>\n",
       "    </tr>\n",
       "    <tr>\n",
       "      <th>2</th>\n",
       "      <td>2023-01-13</td>\n",
       "      <td>인증서·공연 티켓·멤버십 카드 대체···'유틸리티 NFT'가 뜬다 앞서 신세계백화점...</td>\n",
       "      <td>0</td>\n",
       "      <td>1</td>\n",
       "      <td>1.980132</td>\n",
       "      <td>중립</td>\n",
       "      <td>0</td>\n",
       "      <td>0</td>\n",
       "    </tr>\n",
       "    <tr>\n",
       "      <th>3</th>\n",
       "      <td>2023-01-13</td>\n",
       "      <td>신세계 백화점서 4억 넘게 쓴 VIP 손님, 이런 '특별혜택' 받는답니다 최근 한 ...</td>\n",
       "      <td>0</td>\n",
       "      <td>1</td>\n",
       "      <td>1.931253</td>\n",
       "      <td>중립</td>\n",
       "      <td>0</td>\n",
       "      <td>0</td>\n",
       "    </tr>\n",
       "    <tr>\n",
       "      <th>4</th>\n",
       "      <td>2023-01-13</td>\n",
       "      <td>기준금리 또 인상…돈 빌릴까 고심 깊어지는 식품업계 단체급식, 외식, 식자재 납품업...</td>\n",
       "      <td>0</td>\n",
       "      <td>0</td>\n",
       "      <td>2.125655</td>\n",
       "      <td>약한부정</td>\n",
       "      <td>0</td>\n",
       "      <td>0</td>\n",
       "    </tr>\n",
       "    <tr>\n",
       "      <th>...</th>\n",
       "      <td>...</td>\n",
       "      <td>...</td>\n",
       "      <td>...</td>\n",
       "      <td>...</td>\n",
       "      <td>...</td>\n",
       "      <td>...</td>\n",
       "      <td>...</td>\n",
       "      <td>...</td>\n",
       "    </tr>\n",
       "    <tr>\n",
       "      <th>2555</th>\n",
       "      <td>2022-01-03</td>\n",
       "      <td>'물어보살' 임성민, 스승 제이블랙 전화에 붉어진 눈시울 \"잘 지내고 있어\" 24살...</td>\n",
       "      <td>1</td>\n",
       "      <td>1</td>\n",
       "      <td>2.050638</td>\n",
       "      <td>중립</td>\n",
       "      <td>생방송투데이 자족식당</td>\n",
       "      <td></td>\n",
       "    </tr>\n",
       "    <tr>\n",
       "      <th>2556</th>\n",
       "      <td>2022-01-03</td>\n",
       "      <td>정용진 신세계그룹 부회장, \"머리 아닌 심장으로 생각하라\"....'제2의 월마트.....</td>\n",
       "      <td>0</td>\n",
       "      <td>1</td>\n",
       "      <td>1.931253</td>\n",
       "      <td>중립</td>\n",
       "      <td>0</td>\n",
       "      <td>0</td>\n",
       "    </tr>\n",
       "    <tr>\n",
       "      <th>2557</th>\n",
       "      <td>2022-01-03</td>\n",
       "      <td>넷플릭스 예능 '솔로지옥', '고요의 바다' 제치고 1위 ●'마트 방역패스' 앞두고...</td>\n",
       "      <td>0</td>\n",
       "      <td>1</td>\n",
       "      <td>2.050638</td>\n",
       "      <td>중립</td>\n",
       "      <td>0</td>\n",
       "      <td>0</td>\n",
       "    </tr>\n",
       "    <tr>\n",
       "      <th>2558</th>\n",
       "      <td>2022-01-03</td>\n",
       "      <td>유통가, 임인년 맞아 호랑이 마케팅 '열기' 신세계백화점은 임인년을 맞아 전 점에서...</td>\n",
       "      <td>0</td>\n",
       "      <td>1</td>\n",
       "      <td>2.169164</td>\n",
       "      <td>약한긍정</td>\n",
       "      <td>0</td>\n",
       "      <td>0</td>\n",
       "    </tr>\n",
       "    <tr>\n",
       "      <th>2559</th>\n",
       "      <td>2021-12-31</td>\n",
       "      <td>GS샵, '신년맞이 특가여행' 제주신화월드 메리어트관 단독 판매 테마파크, 워터파크...</td>\n",
       "      <td>0</td>\n",
       "      <td>0</td>\n",
       "      <td>3.644483</td>\n",
       "      <td>강한부정</td>\n",
       "      <td>0</td>\n",
       "      <td>0</td>\n",
       "    </tr>\n",
       "  </tbody>\n",
       "</table>\n",
       "<p>2560 rows × 8 columns</p>\n",
       "</div>"
      ],
      "text/plain": [
       "            date                                           abstract  \\\n",
       "0     2023-01-13  “5천원부터 그냥 줍니다” 27만명이나 챙긴 ‘용돈벌이’ 몰랐어? [지구, 뭐......   \n",
       "1     2023-01-13  폭탄세일 때만 손님 몰려…'행사 대박'에도 웃지 못하는 마트 신동빈 롯데 회장과 정...   \n",
       "2     2023-01-13  인증서·공연 티켓·멤버십 카드 대체···'유틸리티 NFT'가 뜬다 앞서 신세계백화점...   \n",
       "3     2023-01-13  신세계 백화점서 4억 넘게 쓴 VIP 손님, 이런 '특별혜택' 받는답니다 최근 한 ...   \n",
       "4     2023-01-13  기준금리 또 인상…돈 빌릴까 고심 깊어지는 식품업계 단체급식, 외식, 식자재 납품업...   \n",
       "...          ...                                                ...   \n",
       "2555  2022-01-03  '물어보살' 임성민, 스승 제이블랙 전화에 붉어진 눈시울 \"잘 지내고 있어\" 24살...   \n",
       "2556  2022-01-03  정용진 신세계그룹 부회장, \"머리 아닌 심장으로 생각하라\"....'제2의 월마트.....   \n",
       "2557  2022-01-03  넷플릭스 예능 '솔로지옥', '고요의 바다' 제치고 1위 ●'마트 방역패스' 앞두고...   \n",
       "2558  2022-01-03  유통가, 임인년 맞아 호랑이 마케팅 '열기' 신세계백화점은 임인년을 맞아 전 점에서...   \n",
       "2559  2021-12-31  GS샵, '신년맞이 특가여행' 제주신화월드 메리어트관 단독 판매 테마파크, 워터파크...   \n",
       "\n",
       "      pre_label  sentiment     score sent_range  model_keyword corpus_keyword  \n",
       "0             1          0  2.529453       보통부정  갤러리아백화점 롯데백화점                 \n",
       "1             0          0  1.818684         중립              0              0  \n",
       "2             0          1  1.980132         중립              0              0  \n",
       "3             0          1  1.931253         중립              0              0  \n",
       "4             0          0  2.125655       약한부정              0              0  \n",
       "...         ...        ...       ...        ...            ...            ...  \n",
       "2555          1          1  2.050638         중립    생방송투데이 자족식당                 \n",
       "2556          0          1  1.931253         중립              0              0  \n",
       "2557          0          1  2.050638         중립              0              0  \n",
       "2558          0          1  2.169164       약한긍정              0              0  \n",
       "2559          0          0  3.644483       강한부정              0              0  \n",
       "\n",
       "[2560 rows x 8 columns]"
      ]
     },
     "execution_count": 104,
     "metadata": {},
     "output_type": "execute_result"
    }
   ],
   "source": [
    "df = pd.read_csv(path + file_list[4], encoding='utf-8-sig')\n",
    "\n",
    "# date 기준으로 정렬\n",
    "df = df.sort_values(by='date', ascending=False)\n",
    "df = df.reset_index(drop=True)\n",
    "# pre_label.1 drop\n",
    "df = df.drop(['pre_label.1'], axis=1)\n",
    "# NaN 값 0으로\n",
    "df = df.fillna(0)\n",
    "\n",
    "df"
   ]
  },
  {
   "cell_type": "code",
   "execution_count": 105,
   "metadata": {},
   "outputs": [],
   "source": [
    "def plot_2d_graph(vocabs, xs, ys):\n",
    "    plt.figure(figsize=(8 ,6))\n",
    "    plt.scatter(xs, ys, marker = 'o')\n",
    "    for i, v in enumerate(vocabs):\n",
    "        plt.annotate(v, xy=(xs[i], ys[i]))\n",
    "\n",
    "# 한글폰트 세팅\n",
    "font_name = font_manager.FontProperties(fname=\"c:/Windows/Fonts/malgun.ttf\").get_name()\n",
    "rc('font', family=font_name)"
   ]
  },
  {
   "cell_type": "code",
   "execution_count": 106,
   "metadata": {},
   "outputs": [],
   "source": [
    "#df = pd.read_csv(path + file_list[5], encoding='cp949')\n",
    "\n",
    "\n",
    "# df의 label 별로 df 생성하는 for문\n",
    "#    for i in range(len(esg_word)):\n",
    "df_1 = df[df['pre_label'] == 1]\n",
    "df_1 = df_1.reset_index(drop=True)\n",
    "\n",
    "df_2 = df[df['pre_label'] == 2]\n",
    "df_2 = df_2.reset_index(drop=True)\n",
    "\n",
    "df_3 = df[df['pre_label'] == '3']\n",
    "df_3 = df_3.reset_index(drop=True)\n"
   ]
  },
  {
   "attachments": {},
   "cell_type": "markdown",
   "metadata": {},
   "source": [
    "### E에 대한 키워드 유사도"
   ]
  },
  {
   "cell_type": "code",
   "execution_count": 107,
   "metadata": {},
   "outputs": [],
   "source": [
    "df_1['agg'] = df_1['abstract'] + df_1['corpus_keyword']\n",
    "\n",
    "# sumarry와 keyword를 합쳐서 토큰화\n",
    "tokenized_doc = df_1['agg'].apply(lambda x: okt.morphs(x, stem=True)) # 토큰화\n",
    "tokenized_doc = tokenized_doc.apply(lambda x: [item for item in x if item not in stopwords]) # 불용어 제거\n",
    "\n",
    "# keyword에 대해서만 word embedding을 위해 단어 추출 및 통합 과정\n",
    "split_word = df_1['corpus_keyword'].apply(lambda x: okt.morphs(x, stem=True))\n",
    "split_word = split_word[split_word.apply(lambda x: len(x) > 0)]\n",
    "# split_word index 초기화\n",
    "split_word = split_word.reset_index(drop=True)\n",
    "# split_word의 각 행의 첫 번째, 두 번째 단어 뽑기\n",
    "split_word = split_word.apply(lambda x: x[:2])\n",
    "# split_word의 각 행의 단어 합치기\n",
    "split_word_agg = split_word.apply(lambda x: ' '.join(x))\n"
   ]
  },
  {
   "cell_type": "code",
   "execution_count": 108,
   "metadata": {},
   "outputs": [],
   "source": [
    "# tokenized_doc에 구분된 keyword 단어에 대해 다시 합치기\n",
    "for j in range(len(split_word_agg)):\n",
    "    tokenized_doc = tokenized_doc.apply(lambda x: [split_word_agg[j] if item == split_word[j][0] else item for item in x])\n"
   ]
  },
  {
   "cell_type": "code",
   "execution_count": 109,
   "metadata": {},
   "outputs": [],
   "source": [
    "vocabs = split_word_agg.tolist()\n",
    "\n",
    "# vocabs 내 '협력 사'를 제거\n",
    "vocabs = [x for x in vocabs if x != '협력 사']\n",
    "#vocabs = [x.replace('협력 사', '협력 회사') for x in vocabs]"
   ]
  },
  {
   "cell_type": "code",
   "execution_count": 110,
   "metadata": {},
   "outputs": [
    {
     "name": "stderr",
     "output_type": "stream",
     "text": [
      "c:\\Users\\MLCF\\anaconda3\\envs\\bk\\lib\\site-packages\\IPython\\core\\pylabtools.py:151: UserWarning: Glyph 8722 (\\N{MINUS SIGN}) missing from current font.\n",
      "  fig.canvas.print_figure(bytes_io, **kw)\n"
     ]
    },
    {
     "data": {
      "image/png": "[encoded data removed]",
      "text/plain": [
       "<Figure size 576x432 with 1 Axes>"
      ]
     },
     "metadata": {
      "needs_background": "light"
     },
     "output_type": "display_data"
    }
   ],
   "source": [
    "\n",
    "# model 정의 : sg = 0은 CBOW, sg = 1은 Skip-gram\n",
    "model = Word2Vec(tokenized_doc, vector_size=100, window=5, min_count=1, workers=4, sg = 1)\n",
    "word_vectors = model.wv\n",
    "\n",
    "word_vectors_list = [word_vectors[v] for v in vocabs]\n",
    "\n",
    "pca = PCA(n_components=2)\n",
    "xys = pca.fit_transform(word_vectors_list)\n",
    "xs = xys[:,0]\n",
    "ys = xys[:,1]\n",
    "\n",
    "# 결과\n",
    "plot_2d_graph(vocabs, xs, ys)\n",
    "\n",
    "# word_vectors npy로 저장\n",
    "import numpy as np\n",
    "\n",
    "output_path = os.getcwd() + '/2-3. 키워드 별 유사도 도출/output/merge/output/' + file_list[4] + '/e/'\n",
    "\n",
    "if not os.path.exists(output_path):\n",
    "    os.makedirs(output_path)\n",
    "    \n",
    "np.save(output_path + 'word_vectors.npy', word_vectors_list)\n",
    "np.save(output_path + 'vocabs.npy', vocabs)"
   ]
  },
  {
   "attachments": {},
   "cell_type": "markdown",
   "metadata": {},
   "source": [
    "### S에 대한 키워드 유사도"
   ]
  },
  {
   "cell_type": "code",
   "execution_count": 111,
   "metadata": {},
   "outputs": [
    {
     "name": "stderr",
     "output_type": "stream",
     "text": [
      "c:\\Users\\MLCF\\anaconda3\\envs\\bk\\lib\\site-packages\\IPython\\core\\pylabtools.py:151: UserWarning: Glyph 8722 (\\N{MINUS SIGN}) missing from current font.\n",
      "  fig.canvas.print_figure(bytes_io, **kw)\n"
     ]
    },
    {
     "data": {
      "image/png": "[encoded data removed]",
      "text/plain": [
       "<Figure size 576x432 with 1 Axes>"
      ]
     },
     "metadata": {
      "needs_background": "light"
     },
     "output_type": "display_data"
    }
   ],
   "source": [
    "df_2['agg'] = df_2['abstract'] + df_2['corpus_keyword']\n",
    "\n",
    "# sumarry와 keyword를 합쳐서 토큰화\n",
    "tokenized_doc = df_2['agg'].apply(lambda x: okt.morphs(x, stem=True)) # 토큰화\n",
    "tokenized_doc = tokenized_doc.apply(lambda x: [item for item in x if item not in stopwords]) # 불용어 제거\n",
    "\n",
    "# keyword에 대해서만 word embedding을 위해 단어 추출 및 통합 과정\n",
    "split_word = df_2['corpus_keyword'].apply(lambda x: okt.morphs(x, stem=True))\n",
    "# split_word의 각 행의 첫 번째, 두 번째 단어 뽑기\n",
    "split_word = split_word.apply(lambda x: x[:2])\n",
    "split_word = split_word[split_word.apply(lambda x: len(x) > 0)]\n",
    "# split_word index 초기화\n",
    "split_word = split_word.reset_index(drop=True)\n",
    "# split_word의 각 행의 첫 번째, 두 번째 단어 뽑기\n",
    "split_word = split_word.apply(lambda x: x[:2])\n",
    "# split_word의 각 행의 단어 합치기\n",
    "split_word_agg = split_word.apply(lambda x: ' '.join(x))\n",
    "\n",
    "# tokenized_doc에 구분된 keyword 단어에 대해 다시 합치기\n",
    "for j in range(len(split_word_agg)):\n",
    "    tokenized_doc = tokenized_doc.apply(lambda x: [split_word_agg[j] if item == split_word[j][0] else item for item in x])\n",
    "\n",
    "# model 정의 : sg = 0은 CBOW, sg = 1은 Skip-gram\n",
    "\n",
    "vocabs = split_word_agg.tolist()\n",
    "\n",
    "model = Word2Vec(tokenized_doc, vector_size=100, window=5, min_count=1, workers=4, sg = 1)\n",
    "word_vectors = model.wv\n",
    "\n",
    "word_vectors_list = [word_vectors[v] for v in vocabs]\n",
    "pca = PCA(n_components=2)\n",
    "xys = pca.fit_transform(word_vectors_list)\n",
    "xs = xys[:,0]\n",
    "ys = xys[:,1]\n",
    "\n",
    "# 결과\n",
    "plot_2d_graph(vocabs, xs, ys)\n",
    "\n",
    "output_path = os.getcwd() + '/2-3. 키워드 별 유사도 도출/output/merge/output/' + file_list[4] + '/s/'\n",
    "\n",
    "if not os.path.exists(output_path):\n",
    "    os.makedirs(output_path)\n",
    "    \n",
    "np.save(output_path + 'word_vectors.npy', word_vectors_list)\n",
    "np.save(output_path + 'vocabs.npy', vocabs)"
   ]
  },
  {
   "attachments": {},
   "cell_type": "markdown",
   "metadata": {},
   "source": [
    "### G에 대한 키워드 유사도"
   ]
  },
  {
   "cell_type": "code",
   "execution_count": 54,
   "metadata": {},
   "outputs": [
    {
     "name": "stdout",
     "output_type": "stream",
     "text": [
      "Series([], Name: agg, dtype: object)\n"
     ]
    },
    {
     "ename": "RuntimeError",
     "evalue": "you must first build vocabulary before training the model",
     "output_type": "error",
     "traceback": [
      "\u001b[1;31m---------------------------------------------------------------------------\u001b[0m",
      "\u001b[1;31mRuntimeError\u001b[0m                              Traceback (most recent call last)",
      "\u001b[1;32md:\\jyp\\kpmg_co\\1. preprocessing\\2-1. analysis dataset\\[2-3] word2Vec 기반 유사도 도출_뉴스.ipynb 셀 17\u001b[0m in \u001b[0;36m<cell line: 27>\u001b[1;34m()\u001b[0m\n\u001b[0;32m     <a href='vscode-notebook-cell:/d%3A/jyp/kpmg_co/1.%20preprocessing/2-1.%20analysis%20dataset/%5B2-3%5D%20word2Vec%20%EA%B8%B0%EB%B0%98%20%EC%9C%A0%EC%82%AC%EB%8F%84%20%EB%8F%84%EC%B6%9C_%EB%89%B4%EC%8A%A4.ipynb#X13sZmlsZQ%3D%3D?line=23'>24</a>\u001b[0m vocabs \u001b[39m=\u001b[39m split_word_agg\u001b[39m.\u001b[39mtolist()\n\u001b[0;32m     <a href='vscode-notebook-cell:/d%3A/jyp/kpmg_co/1.%20preprocessing/2-1.%20analysis%20dataset/%5B2-3%5D%20word2Vec%20%EA%B8%B0%EB%B0%98%20%EC%9C%A0%EC%82%AC%EB%8F%84%20%EB%8F%84%EC%B6%9C_%EB%89%B4%EC%8A%A4.ipynb#X13sZmlsZQ%3D%3D?line=25'>26</a>\u001b[0m \u001b[39m# model 정의 : sg = 0은 CBOW, sg = 1은 Skip-gram\u001b[39;00m\n\u001b[1;32m---> <a href='vscode-notebook-cell:/d%3A/jyp/kpmg_co/1.%20preprocessing/2-1.%20analysis%20dataset/%5B2-3%5D%20word2Vec%20%EA%B8%B0%EB%B0%98%20%EC%9C%A0%EC%82%AC%EB%8F%84%20%EB%8F%84%EC%B6%9C_%EB%89%B4%EC%8A%A4.ipynb#X13sZmlsZQ%3D%3D?line=26'>27</a>\u001b[0m model \u001b[39m=\u001b[39m Word2Vec(tokenized_doc, vector_size\u001b[39m=\u001b[39;49m\u001b[39m100\u001b[39;49m, window\u001b[39m=\u001b[39;49m\u001b[39m5\u001b[39;49m, min_count\u001b[39m=\u001b[39;49m\u001b[39m1\u001b[39;49m, workers\u001b[39m=\u001b[39;49m\u001b[39m4\u001b[39;49m, sg \u001b[39m=\u001b[39;49m \u001b[39m1\u001b[39;49m)\n\u001b[0;32m     <a href='vscode-notebook-cell:/d%3A/jyp/kpmg_co/1.%20preprocessing/2-1.%20analysis%20dataset/%5B2-3%5D%20word2Vec%20%EA%B8%B0%EB%B0%98%20%EC%9C%A0%EC%82%AC%EB%8F%84%20%EB%8F%84%EC%B6%9C_%EB%89%B4%EC%8A%A4.ipynb#X13sZmlsZQ%3D%3D?line=27'>28</a>\u001b[0m word_vectors \u001b[39m=\u001b[39m model\u001b[39m.\u001b[39mwv\n\u001b[0;32m     <a href='vscode-notebook-cell:/d%3A/jyp/kpmg_co/1.%20preprocessing/2-1.%20analysis%20dataset/%5B2-3%5D%20word2Vec%20%EA%B8%B0%EB%B0%98%20%EC%9C%A0%EC%82%AC%EB%8F%84%20%EB%8F%84%EC%B6%9C_%EB%89%B4%EC%8A%A4.ipynb#X13sZmlsZQ%3D%3D?line=29'>30</a>\u001b[0m word_vectors_list \u001b[39m=\u001b[39m [word_vectors[v] \u001b[39mfor\u001b[39;00m v \u001b[39min\u001b[39;00m vocabs]\n",
      "File \u001b[1;32mc:\\Users\\MLCF\\anaconda3\\envs\\bk\\lib\\site-packages\\gensim\\models\\word2vec.py:430\u001b[0m, in \u001b[0;36mWord2Vec.__init__\u001b[1;34m(self, sentences, corpus_file, vector_size, alpha, window, min_count, max_vocab_size, sample, seed, workers, min_alpha, sg, hs, negative, ns_exponent, cbow_mean, hashfxn, epochs, null_word, trim_rule, sorted_vocab, batch_words, compute_loss, callbacks, comment, max_final_vocab, shrink_windows)\u001b[0m\n\u001b[0;32m    428\u001b[0m     \u001b[39mself\u001b[39m\u001b[39m.\u001b[39m_check_corpus_sanity(corpus_iterable\u001b[39m=\u001b[39mcorpus_iterable, corpus_file\u001b[39m=\u001b[39mcorpus_file, passes\u001b[39m=\u001b[39m(epochs \u001b[39m+\u001b[39m \u001b[39m1\u001b[39m))\n\u001b[0;32m    429\u001b[0m     \u001b[39mself\u001b[39m\u001b[39m.\u001b[39mbuild_vocab(corpus_iterable\u001b[39m=\u001b[39mcorpus_iterable, corpus_file\u001b[39m=\u001b[39mcorpus_file, trim_rule\u001b[39m=\u001b[39mtrim_rule)\n\u001b[1;32m--> 430\u001b[0m     \u001b[39mself\u001b[39;49m\u001b[39m.\u001b[39;49mtrain(\n\u001b[0;32m    431\u001b[0m         corpus_iterable\u001b[39m=\u001b[39;49mcorpus_iterable, corpus_file\u001b[39m=\u001b[39;49mcorpus_file, total_examples\u001b[39m=\u001b[39;49m\u001b[39mself\u001b[39;49m\u001b[39m.\u001b[39;49mcorpus_count,\n\u001b[0;32m    432\u001b[0m         total_words\u001b[39m=\u001b[39;49m\u001b[39mself\u001b[39;49m\u001b[39m.\u001b[39;49mcorpus_total_words, epochs\u001b[39m=\u001b[39;49m\u001b[39mself\u001b[39;49m\u001b[39m.\u001b[39;49mepochs, start_alpha\u001b[39m=\u001b[39;49m\u001b[39mself\u001b[39;49m\u001b[39m.\u001b[39;49malpha,\n\u001b[0;32m    433\u001b[0m         end_alpha\u001b[39m=\u001b[39;49m\u001b[39mself\u001b[39;49m\u001b[39m.\u001b[39;49mmin_alpha, compute_loss\u001b[39m=\u001b[39;49m\u001b[39mself\u001b[39;49m\u001b[39m.\u001b[39;49mcompute_loss, callbacks\u001b[39m=\u001b[39;49mcallbacks)\n\u001b[0;32m    434\u001b[0m \u001b[39melse\u001b[39;00m:\n\u001b[0;32m    435\u001b[0m     \u001b[39mif\u001b[39;00m trim_rule \u001b[39mis\u001b[39;00m \u001b[39mnot\u001b[39;00m \u001b[39mNone\u001b[39;00m:\n",
      "File \u001b[1;32mc:\\Users\\MLCF\\anaconda3\\envs\\bk\\lib\\site-packages\\gensim\\models\\word2vec.py:1045\u001b[0m, in \u001b[0;36mWord2Vec.train\u001b[1;34m(self, corpus_iterable, corpus_file, total_examples, total_words, epochs, start_alpha, end_alpha, word_count, queue_factor, report_delay, compute_loss, callbacks, **kwargs)\u001b[0m\n\u001b[0;32m   1042\u001b[0m \u001b[39mself\u001b[39m\u001b[39m.\u001b[39mmin_alpha \u001b[39m=\u001b[39m end_alpha \u001b[39mor\u001b[39;00m \u001b[39mself\u001b[39m\u001b[39m.\u001b[39mmin_alpha\n\u001b[0;32m   1043\u001b[0m \u001b[39mself\u001b[39m\u001b[39m.\u001b[39mepochs \u001b[39m=\u001b[39m epochs\n\u001b[1;32m-> 1045\u001b[0m \u001b[39mself\u001b[39;49m\u001b[39m.\u001b[39;49m_check_training_sanity(epochs\u001b[39m=\u001b[39;49mepochs, total_examples\u001b[39m=\u001b[39;49mtotal_examples, total_words\u001b[39m=\u001b[39;49mtotal_words)\n\u001b[0;32m   1046\u001b[0m \u001b[39mself\u001b[39m\u001b[39m.\u001b[39m_check_corpus_sanity(corpus_iterable\u001b[39m=\u001b[39mcorpus_iterable, corpus_file\u001b[39m=\u001b[39mcorpus_file, passes\u001b[39m=\u001b[39mepochs)\n\u001b[0;32m   1048\u001b[0m \u001b[39mself\u001b[39m\u001b[39m.\u001b[39madd_lifecycle_event(\n\u001b[0;32m   1049\u001b[0m     \u001b[39m\"\u001b[39m\u001b[39mtrain\u001b[39m\u001b[39m\"\u001b[39m,\n\u001b[0;32m   1050\u001b[0m     msg\u001b[39m=\u001b[39m(\n\u001b[1;32m   (...)\u001b[0m\n\u001b[0;32m   1054\u001b[0m     ),\n\u001b[0;32m   1055\u001b[0m )\n",
      "File \u001b[1;32mc:\\Users\\MLCF\\anaconda3\\envs\\bk\\lib\\site-packages\\gensim\\models\\word2vec.py:1543\u001b[0m, in \u001b[0;36mWord2Vec._check_training_sanity\u001b[1;34m(self, epochs, total_examples, total_words, **kwargs)\u001b[0m\n\u001b[0;32m   1540\u001b[0m     logger\u001b[39m.\u001b[39mwarning(\u001b[39m\"\u001b[39m\u001b[39mEffective \u001b[39m\u001b[39m'\u001b[39m\u001b[39malpha\u001b[39m\u001b[39m'\u001b[39m\u001b[39m higher than previous training cycles\u001b[39m\u001b[39m\"\u001b[39m)\n\u001b[0;32m   1542\u001b[0m \u001b[39mif\u001b[39;00m \u001b[39mnot\u001b[39;00m \u001b[39mself\u001b[39m\u001b[39m.\u001b[39mwv\u001b[39m.\u001b[39mkey_to_index:  \u001b[39m# should be set by `build_vocab`\u001b[39;00m\n\u001b[1;32m-> 1543\u001b[0m     \u001b[39mraise\u001b[39;00m \u001b[39mRuntimeError\u001b[39;00m(\u001b[39m\"\u001b[39m\u001b[39myou must first build vocabulary before training the model\u001b[39m\u001b[39m\"\u001b[39m)\n\u001b[0;32m   1544\u001b[0m \u001b[39mif\u001b[39;00m \u001b[39mnot\u001b[39;00m \u001b[39mlen\u001b[39m(\u001b[39mself\u001b[39m\u001b[39m.\u001b[39mwv\u001b[39m.\u001b[39mvectors):\n\u001b[0;32m   1545\u001b[0m     \u001b[39mraise\u001b[39;00m \u001b[39mRuntimeError\u001b[39;00m(\u001b[39m\"\u001b[39m\u001b[39myou must initialize vectors before training the model\u001b[39m\u001b[39m\"\u001b[39m)\n",
      "\u001b[1;31mRuntimeError\u001b[0m: you must first build vocabulary before training the model"
     ]
    }
   ],
   "source": [
    "df_3['agg'] = df_3['abstract'] + df_3['corpus_keyword']\n",
    "\n",
    "# sumarry와 keyword를 합쳐서 토큰화\n",
    "tokenized_doc = df_3['agg'].apply(lambda x: okt.morphs(x, stem=True)) # 토큰화\n",
    "tokenized_doc = tokenized_doc.apply(lambda x: [item for item in x if item not in stopwords]) # 불용어 제거\n",
    "\n",
    "# keyword에 대해서만 word embedding을 위해 단어 추출 및 통합 과정\n",
    "split_word = df_3['corpus_keyword'].apply(lambda x: okt.morphs(x, stem=True))\n",
    "# split_word의 각 행의 첫 번째, 두 번째 단어 뽑기\n",
    "split_word = split_word.apply(lambda x: x[:2])\n",
    "split_word = split_word[split_word.apply(lambda x: len(x) > 0)]\n",
    "# split_word index 초기화\n",
    "split_word = split_word.reset_index(drop=True)\n",
    "# split_word의 각 행의 첫 번째, 두 번째 단어 뽑기\n",
    "split_word = split_word.apply(lambda x: x[:2])\n",
    "# split_word의 각 행의 단어 합치기\n",
    "split_word_agg = split_word.apply(lambda x: ' '.join(x))\n",
    "\n",
    "# tokenized_doc에 구분된 keyword 단어에 대해 다시 합치기\n",
    "for j in range(len(split_word_agg)):\n",
    "    tokenized_doc = tokenized_doc.apply(lambda x: [split_word_agg[j] if item == split_word[j][0] else item for item in x])\n",
    "\n",
    "vocabs = split_word_agg.tolist()\n",
    "\n",
    "# model 정의 : sg = 0은 CBOW, sg = 1은 Skip-gram\n",
    "model = Word2Vec(tokenized_doc, vector_size=100, window=5, min_count=1, workers=4, sg = 1)\n",
    "word_vectors = model.wv\n",
    "\n",
    "word_vectors_list = [word_vectors[v] for v in vocabs]\n",
    "\n",
    "pca = PCA(n_components=2)\n",
    "xys = pca.fit_transform(word_vectors_list)\n",
    "xs = xys[:,0]\n",
    "ys = xys[:,1]\n",
    "\n",
    "# 결과\n",
    "plot_2d_graph(vocabs, xs, ys)\n",
    "\n",
    "output_path = os.getcwd() + '/2-3. 키워드 별 유사도 도출/output/merge/output/' + file_list[1] + '/g/'\n",
    "\n",
    "if not os.path.exists(output_path):\n",
    "    os.makedirs(output_path)\n",
    "    \n",
    "np.save(output_path + 'word_vectors.npy', word_vectors_list)\n",
    "np.save(output_path + 'vocabs.npy', vocabs)"
   ]
  }
 ],
 "metadata": {
  "kernelspec": {
   "display_name": "bk",
   "language": "python",
   "name": "python3"
  },
  "language_info": {
   "codemirror_mode": {
    "name": "ipython",
    "version": 3
   },
   "file_extension": ".py",
   "mimetype": "text/x-python",
   "name": "python",
   "nbconvert_exporter": "python",
   "pygments_lexer": "ipython3",
   "version": "3.8.13"
  },
  "orig_nbformat": 4,
  "vscode": {
   "interpreter": {
    "hash": "5bee82f1aa4c2a7f2905b2bb19edba8ddd243e499f23a2172eda27cb9b9b8967"
   }
  }
 },
 "nbformat": 4,
 "nbformat_minor": 2
}
