{
 "cells": [
  {
   "attachments": {},
   "cell_type": "markdown",
   "metadata": {},
   "source": [
    "## import library"
   ]
  },
  {
   "cell_type": "code",
   "execution_count": 66,
   "metadata": {},
   "outputs": [],
   "source": [
    "import pandas as pd\n",
    "import os\n",
    "import matplotlib.pyplot as plt\n",
    "from matplotlib import font_manager, rc\n",
    "\n",
    "from gensim.models import Word2Vec\n",
    "from sklearn.metrics.pairwise import cosine_similarity\n",
    "\n",
    "# df['summary]와 df['keyword']를 python 기반 한국어 토크나이저를 불러와서 토큰화\n",
    "from konlpy.tag import Okt\n",
    "from sklearn.decomposition import PCA"
   ]
  },
  {
   "cell_type": "code",
   "execution_count": 70,
   "metadata": {},
   "outputs": [
    {
     "data": {
      "text/plain": [
       "['final_test_gs_analysis.csv',\n",
       " 'final_test_hyun_analysis.csv',\n",
       " 'final_test_lg_analysis.csv',\n",
       " 'final_test_lot_analysis.csv',\n",
       " 'final_test_sin_analysis.csv']"
      ]
     },
     "execution_count": 70,
     "metadata": {},
     "output_type": "execute_result"
    }
   ],
   "source": [
    "# 현재 파일 위치\n",
    "path = os.getcwd() + '/2-3. 키워드 별 유사도 도출/disclosure/'\n",
    "with open(os.getcwd() + '/2-3. 키워드 별 유사도 도출/stopwords.txt', 'r', encoding='cp949') as f:\n",
    "    stopwords = f.readlines()\n",
    "\n",
    "okt = Okt()\n",
    "\n",
    "# path 내 파일 리스트 출력\n",
    "file_list = os.listdir(path)\n",
    "file_list"
   ]
  },
  {
   "cell_type": "code",
   "execution_count": 72,
   "metadata": {},
   "outputs": [
    {
     "name": "stderr",
     "output_type": "stream",
     "text": [
      "C:\\Users\\MLCF\\AppData\\Local\\Temp\\ipykernel_31044\\4218083024.py:4: FutureWarning: The frame.append method is deprecated and will be removed from pandas in a future version. Use pandas.concat instead.\n",
      "  df = df.append(pd.read_csv(path + file, index_col=0))\n",
      "C:\\Users\\MLCF\\AppData\\Local\\Temp\\ipykernel_31044\\4218083024.py:4: FutureWarning: The frame.append method is deprecated and will be removed from pandas in a future version. Use pandas.concat instead.\n",
      "  df = df.append(pd.read_csv(path + file, index_col=0))\n",
      "C:\\Users\\MLCF\\AppData\\Local\\Temp\\ipykernel_31044\\4218083024.py:4: FutureWarning: The frame.append method is deprecated and will be removed from pandas in a future version. Use pandas.concat instead.\n",
      "  df = df.append(pd.read_csv(path + file, index_col=0))\n",
      "C:\\Users\\MLCF\\AppData\\Local\\Temp\\ipykernel_31044\\4218083024.py:4: FutureWarning: The frame.append method is deprecated and will be removed from pandas in a future version. Use pandas.concat instead.\n",
      "  df = df.append(pd.read_csv(path + file, index_col=0))\n",
      "C:\\Users\\MLCF\\AppData\\Local\\Temp\\ipykernel_31044\\4218083024.py:4: FutureWarning: The frame.append method is deprecated and will be removed from pandas in a future version. Use pandas.concat instead.\n",
      "  df = df.append(pd.read_csv(path + file, index_col=0))\n"
     ]
    },
    {
     "data": {
      "text/html": [
       "<div>\n",
       "<style scoped>\n",
       "    .dataframe tbody tr th:only-of-type {\n",
       "        vertical-align: middle;\n",
       "    }\n",
       "\n",
       "    .dataframe tbody tr th {\n",
       "        vertical-align: top;\n",
       "    }\n",
       "\n",
       "    .dataframe thead th {\n",
       "        text-align: right;\n",
       "    }\n",
       "</style>\n",
       "<table border=\"1\" class=\"dataframe\">\n",
       "  <thead>\n",
       "    <tr style=\"text-align: right;\">\n",
       "      <th></th>\n",
       "      <th>abstract</th>\n",
       "      <th>pre_label</th>\n",
       "      <th>sentiment</th>\n",
       "      <th>score</th>\n",
       "      <th>sent_range</th>\n",
       "      <th>model_keyword</th>\n",
       "      <th>corpus_keyword</th>\n",
       "    </tr>\n",
       "  </thead>\n",
       "  <tbody>\n",
       "    <tr>\n",
       "      <th>0</th>\n",
       "      <td>“5천원부터 그냥 줍니다” 27만명이나 챙긴 ‘용돈벌이’ 몰랐어? [지구, 뭐......</td>\n",
       "      <td>1</td>\n",
       "      <td>0</td>\n",
       "      <td>2.529453</td>\n",
       "      <td>보통부정</td>\n",
       "      <td>갤러리아백화점 롯데백화점</td>\n",
       "      <td></td>\n",
       "    </tr>\n",
       "    <tr>\n",
       "      <th>1</th>\n",
       "      <td>쏘카, 롯데하이마트와 탄소배출 절감·모빌리티 활성화 맞손 쏘카가 온·오프라인 서비스...</td>\n",
       "      <td>0</td>\n",
       "      <td>0</td>\n",
       "      <td>4.046216</td>\n",
       "      <td>보통부정</td>\n",
       "      <td>0</td>\n",
       "      <td>0</td>\n",
       "    </tr>\n",
       "    <tr>\n",
       "      <th>2</th>\n",
       "      <td>대기업들 설 상생...협력사 납품대금 앞당겨 지급 또한 GS리테일은 가맹점 경영주와...</td>\n",
       "      <td>0</td>\n",
       "      <td>0</td>\n",
       "      <td>3.475096</td>\n",
       "      <td>보통부정</td>\n",
       "      <td>0</td>\n",
       "      <td>0</td>\n",
       "    </tr>\n",
       "    <tr>\n",
       "      <th>3</th>\n",
       "      <td>LG유플러스 또 고객 정보 유출… 경찰 수사 착수 ★GS리테일 판촉비용 전가로 16...</td>\n",
       "      <td>0</td>\n",
       "      <td>1</td>\n",
       "      <td>2.050638</td>\n",
       "      <td>중립</td>\n",
       "      <td>0</td>\n",
       "      <td>0</td>\n",
       "    </tr>\n",
       "    <tr>\n",
       "      <th>4</th>\n",
       "      <td>CJ제일제당, 배당·성과급 미스매치…해외사업·CJ대한통운 걸림돌 이외에도 SK하이닉...</td>\n",
       "      <td>0</td>\n",
       "      <td>0</td>\n",
       "      <td>2.454978</td>\n",
       "      <td>약한부정</td>\n",
       "      <td>0</td>\n",
       "      <td>0</td>\n",
       "    </tr>\n",
       "    <tr>\n",
       "      <th>...</th>\n",
       "      <td>...</td>\n",
       "      <td>...</td>\n",
       "      <td>...</td>\n",
       "      <td>...</td>\n",
       "      <td>...</td>\n",
       "      <td>...</td>\n",
       "      <td>...</td>\n",
       "    </tr>\n",
       "    <tr>\n",
       "      <th>11871</th>\n",
       "      <td>정용진 신세계그룹 부회장, \"머리 아닌 심장으로 생각하라\"....'제2의 월마트.....</td>\n",
       "      <td>0</td>\n",
       "      <td>1</td>\n",
       "      <td>1.931253</td>\n",
       "      <td>중립</td>\n",
       "      <td>0</td>\n",
       "      <td>0</td>\n",
       "    </tr>\n",
       "    <tr>\n",
       "      <th>11872</th>\n",
       "      <td>GS리테일, New Vision 선포 및 2022년 경영전략 밝표 허연수 GS리테일...</td>\n",
       "      <td>0</td>\n",
       "      <td>1</td>\n",
       "      <td>2.050638</td>\n",
       "      <td>중립</td>\n",
       "      <td>0</td>\n",
       "      <td>0</td>\n",
       "    </tr>\n",
       "    <tr>\n",
       "      <th>11873</th>\n",
       "      <td>저주받은 색조 양극화 기초 화장품 훨훨 [사진=LG생활건강] 비건 화장품 인기 세계...</td>\n",
       "      <td>0</td>\n",
       "      <td>0</td>\n",
       "      <td>2.175585</td>\n",
       "      <td>약한부정</td>\n",
       "      <td>0</td>\n",
       "      <td>0</td>\n",
       "    </tr>\n",
       "    <tr>\n",
       "      <th>11874</th>\n",
       "      <td>GS샵, '신년맞이 특가여행' 제주신화월드 메리어트관 단독 판매 테마파크, 워터파크...</td>\n",
       "      <td>0</td>\n",
       "      <td>0</td>\n",
       "      <td>3.644483</td>\n",
       "      <td>강한부정</td>\n",
       "      <td>0</td>\n",
       "      <td>0</td>\n",
       "    </tr>\n",
       "    <tr>\n",
       "      <th>11875</th>\n",
       "      <td>롯데하이마트, 신년맞이 '2022 새단장 SALE' 행사 롯데하이마트가 임진년 새해...</td>\n",
       "      <td>0</td>\n",
       "      <td>0</td>\n",
       "      <td>4.046216</td>\n",
       "      <td>보통부정</td>\n",
       "      <td>0</td>\n",
       "      <td>0</td>\n",
       "    </tr>\n",
       "  </tbody>\n",
       "</table>\n",
       "<p>11876 rows × 7 columns</p>\n",
       "</div>"
      ],
      "text/plain": [
       "                                                abstract  pre_label  \\\n",
       "0      “5천원부터 그냥 줍니다” 27만명이나 챙긴 ‘용돈벌이’ 몰랐어? [지구, 뭐......          1   \n",
       "1      쏘카, 롯데하이마트와 탄소배출 절감·모빌리티 활성화 맞손 쏘카가 온·오프라인 서비스...          0   \n",
       "2      대기업들 설 상생...협력사 납품대금 앞당겨 지급 또한 GS리테일은 가맹점 경영주와...          0   \n",
       "3      LG유플러스 또 고객 정보 유출… 경찰 수사 착수 ★GS리테일 판촉비용 전가로 16...          0   \n",
       "4      CJ제일제당, 배당·성과급 미스매치…해외사업·CJ대한통운 걸림돌 이외에도 SK하이닉...          0   \n",
       "...                                                  ...        ...   \n",
       "11871  정용진 신세계그룹 부회장, \"머리 아닌 심장으로 생각하라\"....'제2의 월마트.....          0   \n",
       "11872  GS리테일, New Vision 선포 및 2022년 경영전략 밝표 허연수 GS리테일...          0   \n",
       "11873  저주받은 색조 양극화 기초 화장품 훨훨 [사진=LG생활건강] 비건 화장품 인기 세계...          0   \n",
       "11874  GS샵, '신년맞이 특가여행' 제주신화월드 메리어트관 단독 판매 테마파크, 워터파크...          0   \n",
       "11875  롯데하이마트, 신년맞이 '2022 새단장 SALE' 행사 롯데하이마트가 임진년 새해...          0   \n",
       "\n",
       "       sentiment     score sent_range  model_keyword corpus_keyword  \n",
       "0              0  2.529453       보통부정  갤러리아백화점 롯데백화점                 \n",
       "1              0  4.046216       보통부정              0              0  \n",
       "2              0  3.475096       보통부정              0              0  \n",
       "3              1  2.050638         중립              0              0  \n",
       "4              0  2.454978       약한부정              0              0  \n",
       "...          ...       ...        ...            ...            ...  \n",
       "11871          1  1.931253         중립              0              0  \n",
       "11872          1  2.050638         중립              0              0  \n",
       "11873          0  2.175585       약한부정              0              0  \n",
       "11874          0  3.644483       강한부정              0              0  \n",
       "11875          0  4.046216       보통부정              0              0  \n",
       "\n",
       "[11876 rows x 7 columns]"
      ]
     },
     "execution_count": 72,
     "metadata": {},
     "output_type": "execute_result"
    }
   ],
   "source": [
    "# file_list를 하나의 df로 합치기\n",
    "df = pd.DataFrame()\n",
    "for file in file_list:\n",
    "    df = df.append(pd.read_csv(path + file, index_col=0))\n",
    "\n",
    "# date 기준으로 정렬\n",
    "df = df.sort_values(by='date', ascending=False)\n",
    "df = df.reset_index(drop=True)\n",
    "# pre_label.1 drop\n",
    "df = df.drop(['pre_label.1'], axis=1)\n",
    "# NaN 값 0으로\n",
    "df = df.fillna(0)\n",
    "\n",
    "df"
   ]
  },
  {
   "cell_type": "code",
   "execution_count": 73,
   "metadata": {},
   "outputs": [],
   "source": [
    "def plot_2d_graph(vocabs, xs, ys):\n",
    "    plt.figure(figsize=(8 ,6))\n",
    "    plt.scatter(xs, ys, marker = 'o')\n",
    "    for i, v in enumerate(vocabs):\n",
    "        plt.annotate(v, xy=(xs[i], ys[i]))\n",
    "\n",
    "# 한글폰트 세팅\n",
    "font_name = font_manager.FontProperties(fname=\"c:/Windows/Fonts/malgun.ttf\").get_name()\n",
    "rc('font', family=font_name)"
   ]
  },
  {
   "cell_type": "code",
   "execution_count": 74,
   "metadata": {},
   "outputs": [],
   "source": [
    "#df = pd.read_csv(path + file_list[5], encoding='cp949')\n",
    "\n",
    "\n",
    "# df의 label 별로 df 생성하는 for문\n",
    "#    for i in range(len(esg_word)):\n",
    "df_1 = df[df['pre_label'] == '1']\n",
    "df_1 = df_1.reset_index(drop=True)\n",
    "\n",
    "df_2 = df[df['pre_label'] == '2']\n",
    "df_2 = df_2.reset_index(drop=True)\n",
    "\n",
    "df_3 = df[df['pre_label'] == '3']\n",
    "df_3 = df_3.reset_index(drop=True)\n"
   ]
  },
  {
   "attachments": {},
   "cell_type": "markdown",
   "metadata": {},
   "source": [
    "### E에 대한 키워드 유사도"
   ]
  },
  {
   "cell_type": "code",
   "execution_count": 59,
   "metadata": {},
   "outputs": [
    {
     "ename": "IndexError",
     "evalue": "list index out of range",
     "output_type": "error",
     "traceback": [
      "\u001b[1;31m---------------------------------------------------------------------------\u001b[0m",
      "\u001b[1;31mIndexError\u001b[0m                                Traceback (most recent call last)",
      "\u001b[1;32md:\\jyp\\kpmg_co\\1. preprocessing\\2-1. analysis dataset\\[2-3] word2Vec 기반 유사도 도출_공시.ipynb 셀 6\u001b[0m in \u001b[0;36m<cell line: 15>\u001b[1;34m()\u001b[0m\n\u001b[0;32m     <a href='vscode-notebook-cell:/d%3A/jyp/kpmg_co/1.%20preprocessing/2-1.%20analysis%20dataset/%5B2-3%5D%20word2Vec%20%EA%B8%B0%EB%B0%98%20%EC%9C%A0%EC%82%AC%EB%8F%84%20%EB%8F%84%EC%B6%9C_%EA%B3%B5%EC%8B%9C.ipynb#W5sZmlsZQ%3D%3D?line=13'>14</a>\u001b[0m \u001b[39m# tokenized_doc에 구분된 keyword 단어에 대해 다시 합치기\u001b[39;00m\n\u001b[0;32m     <a href='vscode-notebook-cell:/d%3A/jyp/kpmg_co/1.%20preprocessing/2-1.%20analysis%20dataset/%5B2-3%5D%20word2Vec%20%EA%B8%B0%EB%B0%98%20%EC%9C%A0%EC%82%AC%EB%8F%84%20%EB%8F%84%EC%B6%9C_%EA%B3%B5%EC%8B%9C.ipynb#W5sZmlsZQ%3D%3D?line=14'>15</a>\u001b[0m \u001b[39mfor\u001b[39;00m j \u001b[39min\u001b[39;00m \u001b[39mrange\u001b[39m(\u001b[39mlen\u001b[39m(tokenized_doc)):\n\u001b[1;32m---> <a href='vscode-notebook-cell:/d%3A/jyp/kpmg_co/1.%20preprocessing/2-1.%20analysis%20dataset/%5B2-3%5D%20word2Vec%20%EA%B8%B0%EB%B0%98%20%EC%9C%A0%EC%82%AC%EB%8F%84%20%EB%8F%84%EC%B6%9C_%EA%B3%B5%EC%8B%9C.ipynb#W5sZmlsZQ%3D%3D?line=15'>16</a>\u001b[0m     tokenized_doc \u001b[39m=\u001b[39m tokenized_doc\u001b[39m.\u001b[39;49mapply(\u001b[39mlambda\u001b[39;49;00m x: [split_word_agg[j] \u001b[39mif\u001b[39;49;00m item \u001b[39m==\u001b[39;49m split_word[j][\u001b[39m0\u001b[39;49m] \u001b[39mor\u001b[39;49;00m item \u001b[39m==\u001b[39;49m split_word[j][\u001b[39m1\u001b[39;49m] \u001b[39melse\u001b[39;49;00m item \u001b[39mfor\u001b[39;49;00m item \u001b[39min\u001b[39;49;00m x])\n\u001b[0;32m     <a href='vscode-notebook-cell:/d%3A/jyp/kpmg_co/1.%20preprocessing/2-1.%20analysis%20dataset/%5B2-3%5D%20word2Vec%20%EA%B8%B0%EB%B0%98%20%EC%9C%A0%EC%82%AC%EB%8F%84%20%EB%8F%84%EC%B6%9C_%EA%B3%B5%EC%8B%9C.ipynb#W5sZmlsZQ%3D%3D?line=17'>18</a>\u001b[0m \u001b[39m# model 정의 : sg = 0은 CBOW, sg = 1은 Skip-gram\u001b[39;00m\n\u001b[0;32m     <a href='vscode-notebook-cell:/d%3A/jyp/kpmg_co/1.%20preprocessing/2-1.%20analysis%20dataset/%5B2-3%5D%20word2Vec%20%EA%B8%B0%EB%B0%98%20%EC%9C%A0%EC%82%AC%EB%8F%84%20%EB%8F%84%EC%B6%9C_%EA%B3%B5%EC%8B%9C.ipynb#W5sZmlsZQ%3D%3D?line=18'>19</a>\u001b[0m model \u001b[39m=\u001b[39m Word2Vec(tokenized_doc, vector_size\u001b[39m=\u001b[39m\u001b[39m100\u001b[39m, window\u001b[39m=\u001b[39m\u001b[39m5\u001b[39m, min_count\u001b[39m=\u001b[39m\u001b[39m1\u001b[39m, workers\u001b[39m=\u001b[39m\u001b[39m4\u001b[39m, sg \u001b[39m=\u001b[39m \u001b[39m1\u001b[39m)\n",
      "File \u001b[1;32mc:\\Users\\MLCF\\anaconda3\\envs\\bk\\lib\\site-packages\\pandas\\core\\series.py:4433\u001b[0m, in \u001b[0;36mSeries.apply\u001b[1;34m(self, func, convert_dtype, args, **kwargs)\u001b[0m\n\u001b[0;32m   4323\u001b[0m \u001b[39mdef\u001b[39;00m \u001b[39mapply\u001b[39m(\n\u001b[0;32m   4324\u001b[0m     \u001b[39mself\u001b[39m,\n\u001b[0;32m   4325\u001b[0m     func: AggFuncType,\n\u001b[1;32m   (...)\u001b[0m\n\u001b[0;32m   4328\u001b[0m     \u001b[39m*\u001b[39m\u001b[39m*\u001b[39mkwargs,\n\u001b[0;32m   4329\u001b[0m ) \u001b[39m-\u001b[39m\u001b[39m>\u001b[39m DataFrame \u001b[39m|\u001b[39m Series:\n\u001b[0;32m   4330\u001b[0m \u001b[39m    \u001b[39m\u001b[39m\"\"\"\u001b[39;00m\n\u001b[0;32m   4331\u001b[0m \u001b[39m    Invoke function on values of Series.\u001b[39;00m\n\u001b[0;32m   4332\u001b[0m \n\u001b[1;32m   (...)\u001b[0m\n\u001b[0;32m   4431\u001b[0m \u001b[39m    dtype: float64\u001b[39;00m\n\u001b[0;32m   4432\u001b[0m \u001b[39m    \"\"\"\u001b[39;00m\n\u001b[1;32m-> 4433\u001b[0m     \u001b[39mreturn\u001b[39;00m SeriesApply(\u001b[39mself\u001b[39;49m, func, convert_dtype, args, kwargs)\u001b[39m.\u001b[39;49mapply()\n",
      "File \u001b[1;32mc:\\Users\\MLCF\\anaconda3\\envs\\bk\\lib\\site-packages\\pandas\\core\\apply.py:1082\u001b[0m, in \u001b[0;36mSeriesApply.apply\u001b[1;34m(self)\u001b[0m\n\u001b[0;32m   1078\u001b[0m \u001b[39mif\u001b[39;00m \u001b[39misinstance\u001b[39m(\u001b[39mself\u001b[39m\u001b[39m.\u001b[39mf, \u001b[39mstr\u001b[39m):\n\u001b[0;32m   1079\u001b[0m     \u001b[39m# if we are a string, try to dispatch\u001b[39;00m\n\u001b[0;32m   1080\u001b[0m     \u001b[39mreturn\u001b[39;00m \u001b[39mself\u001b[39m\u001b[39m.\u001b[39mapply_str()\n\u001b[1;32m-> 1082\u001b[0m \u001b[39mreturn\u001b[39;00m \u001b[39mself\u001b[39;49m\u001b[39m.\u001b[39;49mapply_standard()\n",
      "File \u001b[1;32mc:\\Users\\MLCF\\anaconda3\\envs\\bk\\lib\\site-packages\\pandas\\core\\apply.py:1137\u001b[0m, in \u001b[0;36mSeriesApply.apply_standard\u001b[1;34m(self)\u001b[0m\n\u001b[0;32m   1131\u001b[0m         values \u001b[39m=\u001b[39m obj\u001b[39m.\u001b[39mastype(\u001b[39mobject\u001b[39m)\u001b[39m.\u001b[39m_values\n\u001b[0;32m   1132\u001b[0m         \u001b[39m# error: Argument 2 to \"map_infer\" has incompatible type\u001b[39;00m\n\u001b[0;32m   1133\u001b[0m         \u001b[39m# \"Union[Callable[..., Any], str, List[Union[Callable[..., Any], str]],\u001b[39;00m\n\u001b[0;32m   1134\u001b[0m         \u001b[39m# Dict[Hashable, Union[Union[Callable[..., Any], str],\u001b[39;00m\n\u001b[0;32m   1135\u001b[0m         \u001b[39m# List[Union[Callable[..., Any], str]]]]]\"; expected\u001b[39;00m\n\u001b[0;32m   1136\u001b[0m         \u001b[39m# \"Callable[[Any], Any]\"\u001b[39;00m\n\u001b[1;32m-> 1137\u001b[0m         mapped \u001b[39m=\u001b[39m lib\u001b[39m.\u001b[39;49mmap_infer(\n\u001b[0;32m   1138\u001b[0m             values,\n\u001b[0;32m   1139\u001b[0m             f,  \u001b[39m# type: ignore[arg-type]\u001b[39;49;00m\n\u001b[0;32m   1140\u001b[0m             convert\u001b[39m=\u001b[39;49m\u001b[39mself\u001b[39;49m\u001b[39m.\u001b[39;49mconvert_dtype,\n\u001b[0;32m   1141\u001b[0m         )\n\u001b[0;32m   1143\u001b[0m \u001b[39mif\u001b[39;00m \u001b[39mlen\u001b[39m(mapped) \u001b[39mand\u001b[39;00m \u001b[39misinstance\u001b[39m(mapped[\u001b[39m0\u001b[39m], ABCSeries):\n\u001b[0;32m   1144\u001b[0m     \u001b[39m# GH#43986 Need to do list(mapped) in order to get treated as nested\u001b[39;00m\n\u001b[0;32m   1145\u001b[0m     \u001b[39m#  See also GH#25959 regarding EA support\u001b[39;00m\n\u001b[0;32m   1146\u001b[0m     \u001b[39mreturn\u001b[39;00m obj\u001b[39m.\u001b[39m_constructor_expanddim(\u001b[39mlist\u001b[39m(mapped), index\u001b[39m=\u001b[39mobj\u001b[39m.\u001b[39mindex)\n",
      "File \u001b[1;32mc:\\Users\\MLCF\\anaconda3\\envs\\bk\\lib\\site-packages\\pandas\\_libs\\lib.pyx:2870\u001b[0m, in \u001b[0;36mpandas._libs.lib.map_infer\u001b[1;34m()\u001b[0m\n",
      "\u001b[1;32md:\\jyp\\kpmg_co\\1. preprocessing\\2-1. analysis dataset\\[2-3] word2Vec 기반 유사도 도출_공시.ipynb 셀 6\u001b[0m in \u001b[0;36m<lambda>\u001b[1;34m(x)\u001b[0m\n\u001b[0;32m     <a href='vscode-notebook-cell:/d%3A/jyp/kpmg_co/1.%20preprocessing/2-1.%20analysis%20dataset/%5B2-3%5D%20word2Vec%20%EA%B8%B0%EB%B0%98%20%EC%9C%A0%EC%82%AC%EB%8F%84%20%EB%8F%84%EC%B6%9C_%EA%B3%B5%EC%8B%9C.ipynb#W5sZmlsZQ%3D%3D?line=13'>14</a>\u001b[0m \u001b[39m# tokenized_doc에 구분된 keyword 단어에 대해 다시 합치기\u001b[39;00m\n\u001b[0;32m     <a href='vscode-notebook-cell:/d%3A/jyp/kpmg_co/1.%20preprocessing/2-1.%20analysis%20dataset/%5B2-3%5D%20word2Vec%20%EA%B8%B0%EB%B0%98%20%EC%9C%A0%EC%82%AC%EB%8F%84%20%EB%8F%84%EC%B6%9C_%EA%B3%B5%EC%8B%9C.ipynb#W5sZmlsZQ%3D%3D?line=14'>15</a>\u001b[0m \u001b[39mfor\u001b[39;00m j \u001b[39min\u001b[39;00m \u001b[39mrange\u001b[39m(\u001b[39mlen\u001b[39m(tokenized_doc)):\n\u001b[1;32m---> <a href='vscode-notebook-cell:/d%3A/jyp/kpmg_co/1.%20preprocessing/2-1.%20analysis%20dataset/%5B2-3%5D%20word2Vec%20%EA%B8%B0%EB%B0%98%20%EC%9C%A0%EC%82%AC%EB%8F%84%20%EB%8F%84%EC%B6%9C_%EA%B3%B5%EC%8B%9C.ipynb#W5sZmlsZQ%3D%3D?line=15'>16</a>\u001b[0m     tokenized_doc \u001b[39m=\u001b[39m tokenized_doc\u001b[39m.\u001b[39mapply(\u001b[39mlambda\u001b[39;00m x: [split_word_agg[j] \u001b[39mif\u001b[39;00m item \u001b[39m==\u001b[39m split_word[j][\u001b[39m0\u001b[39m] \u001b[39mor\u001b[39;00m item \u001b[39m==\u001b[39m split_word[j][\u001b[39m1\u001b[39m] \u001b[39melse\u001b[39;00m item \u001b[39mfor\u001b[39;00m item \u001b[39min\u001b[39;00m x])\n\u001b[0;32m     <a href='vscode-notebook-cell:/d%3A/jyp/kpmg_co/1.%20preprocessing/2-1.%20analysis%20dataset/%5B2-3%5D%20word2Vec%20%EA%B8%B0%EB%B0%98%20%EC%9C%A0%EC%82%AC%EB%8F%84%20%EB%8F%84%EC%B6%9C_%EA%B3%B5%EC%8B%9C.ipynb#W5sZmlsZQ%3D%3D?line=17'>18</a>\u001b[0m \u001b[39m# model 정의 : sg = 0은 CBOW, sg = 1은 Skip-gram\u001b[39;00m\n\u001b[0;32m     <a href='vscode-notebook-cell:/d%3A/jyp/kpmg_co/1.%20preprocessing/2-1.%20analysis%20dataset/%5B2-3%5D%20word2Vec%20%EA%B8%B0%EB%B0%98%20%EC%9C%A0%EC%82%AC%EB%8F%84%20%EB%8F%84%EC%B6%9C_%EA%B3%B5%EC%8B%9C.ipynb#W5sZmlsZQ%3D%3D?line=18'>19</a>\u001b[0m model \u001b[39m=\u001b[39m Word2Vec(tokenized_doc, vector_size\u001b[39m=\u001b[39m\u001b[39m100\u001b[39m, window\u001b[39m=\u001b[39m\u001b[39m5\u001b[39m, min_count\u001b[39m=\u001b[39m\u001b[39m1\u001b[39m, workers\u001b[39m=\u001b[39m\u001b[39m4\u001b[39m, sg \u001b[39m=\u001b[39m \u001b[39m1\u001b[39m)\n",
      "\u001b[1;32md:\\jyp\\kpmg_co\\1. preprocessing\\2-1. analysis dataset\\[2-3] word2Vec 기반 유사도 도출_공시.ipynb 셀 6\u001b[0m in \u001b[0;36m<listcomp>\u001b[1;34m(.0)\u001b[0m\n\u001b[0;32m     <a href='vscode-notebook-cell:/d%3A/jyp/kpmg_co/1.%20preprocessing/2-1.%20analysis%20dataset/%5B2-3%5D%20word2Vec%20%EA%B8%B0%EB%B0%98%20%EC%9C%A0%EC%82%AC%EB%8F%84%20%EB%8F%84%EC%B6%9C_%EA%B3%B5%EC%8B%9C.ipynb#W5sZmlsZQ%3D%3D?line=13'>14</a>\u001b[0m \u001b[39m# tokenized_doc에 구분된 keyword 단어에 대해 다시 합치기\u001b[39;00m\n\u001b[0;32m     <a href='vscode-notebook-cell:/d%3A/jyp/kpmg_co/1.%20preprocessing/2-1.%20analysis%20dataset/%5B2-3%5D%20word2Vec%20%EA%B8%B0%EB%B0%98%20%EC%9C%A0%EC%82%AC%EB%8F%84%20%EB%8F%84%EC%B6%9C_%EA%B3%B5%EC%8B%9C.ipynb#W5sZmlsZQ%3D%3D?line=14'>15</a>\u001b[0m \u001b[39mfor\u001b[39;00m j \u001b[39min\u001b[39;00m \u001b[39mrange\u001b[39m(\u001b[39mlen\u001b[39m(tokenized_doc)):\n\u001b[1;32m---> <a href='vscode-notebook-cell:/d%3A/jyp/kpmg_co/1.%20preprocessing/2-1.%20analysis%20dataset/%5B2-3%5D%20word2Vec%20%EA%B8%B0%EB%B0%98%20%EC%9C%A0%EC%82%AC%EB%8F%84%20%EB%8F%84%EC%B6%9C_%EA%B3%B5%EC%8B%9C.ipynb#W5sZmlsZQ%3D%3D?line=15'>16</a>\u001b[0m     tokenized_doc \u001b[39m=\u001b[39m tokenized_doc\u001b[39m.\u001b[39mapply(\u001b[39mlambda\u001b[39;00m x: [split_word_agg[j] \u001b[39mif\u001b[39;00m item \u001b[39m==\u001b[39m split_word[j][\u001b[39m0\u001b[39m] \u001b[39mor\u001b[39;00m item \u001b[39m==\u001b[39m split_word[j][\u001b[39m1\u001b[39;49m] \u001b[39melse\u001b[39;00m item \u001b[39mfor\u001b[39;00m item \u001b[39min\u001b[39;00m x])\n\u001b[0;32m     <a href='vscode-notebook-cell:/d%3A/jyp/kpmg_co/1.%20preprocessing/2-1.%20analysis%20dataset/%5B2-3%5D%20word2Vec%20%EA%B8%B0%EB%B0%98%20%EC%9C%A0%EC%82%AC%EB%8F%84%20%EB%8F%84%EC%B6%9C_%EA%B3%B5%EC%8B%9C.ipynb#W5sZmlsZQ%3D%3D?line=17'>18</a>\u001b[0m \u001b[39m# model 정의 : sg = 0은 CBOW, sg = 1은 Skip-gram\u001b[39;00m\n\u001b[0;32m     <a href='vscode-notebook-cell:/d%3A/jyp/kpmg_co/1.%20preprocessing/2-1.%20analysis%20dataset/%5B2-3%5D%20word2Vec%20%EA%B8%B0%EB%B0%98%20%EC%9C%A0%EC%82%AC%EB%8F%84%20%EB%8F%84%EC%B6%9C_%EA%B3%B5%EC%8B%9C.ipynb#W5sZmlsZQ%3D%3D?line=18'>19</a>\u001b[0m model \u001b[39m=\u001b[39m Word2Vec(tokenized_doc, vector_size\u001b[39m=\u001b[39m\u001b[39m100\u001b[39m, window\u001b[39m=\u001b[39m\u001b[39m5\u001b[39m, min_count\u001b[39m=\u001b[39m\u001b[39m1\u001b[39m, workers\u001b[39m=\u001b[39m\u001b[39m4\u001b[39m, sg \u001b[39m=\u001b[39m \u001b[39m1\u001b[39m)\n",
      "\u001b[1;31mIndexError\u001b[0m: list index out of range"
     ]
    }
   ],
   "source": [
    "df_1['agg'] = df_1['summary'] + df_1['keyword']\n",
    "\n",
    "# sumarry와 keyword를 합쳐서 토큰화\n",
    "tokenized_doc = df_1['agg'].apply(lambda x: okt.morphs(x, stem=True)) # 토큰화\n",
    "tokenized_doc = tokenized_doc.apply(lambda x: [item for item in x if item not in stopwords]) # 불용어 제거\n",
    "\n",
    "# keyword에 대해서만 word embedding을 위해 단어 추출 및 통합 과정\n",
    "split_word = df_1['keyword'].apply(lambda x: okt.morphs(x, stem=True))\n",
    "# split_word의 각 행의 첫 번째, 두 번째 단어 뽑기\n",
    "split_word = split_word.apply(lambda x: x[:2])\n",
    "# split_word의 각 행의 단어 합치기\n",
    "split_word_agg = split_word.apply(lambda x: ' '.join(x))\n",
    "\n",
    "# tokenized_doc에 구분된 keyword 단어에 대해 다시 합치기\n",
    "for j in range(len(tokenized_doc)):\n",
    "    tokenized_doc = tokenized_doc.apply(lambda x: [split_word_agg[j] if item == split_word[j][0] or item == split_word[j][1] else item for item in x])\n",
    "\n",
    "# model 정의 : sg = 0은 CBOW, sg = 1은 Skip-gram\n",
    "model = Word2Vec(tokenized_doc, vector_size=100, window=5, min_count=1, workers=4, sg = 1)\n",
    "word_vectors = model.wv\n",
    "\n",
    "vocabs = split_word_agg.tolist()\n",
    "word_vectors_list = [word_vectors[v] for v in vocabs]\n",
    "\n",
    "pca = PCA(n_components=2)\n",
    "xys = pca.fit_transform(word_vectors_list)\n",
    "xs = xys[:,0]\n",
    "ys = xys[:,1]\n",
    "\n",
    "# 결과\n",
    "plot_2d_graph(vocabs, xs, ys)\n",
    "\n",
    "# word_vectors npy로 저장\n",
    "import numpy as np\n",
    "\n",
    "output_path = os.getcwd() + '/disclosure/output/' + file_list[1] + '/e/'\n",
    "\n",
    "if not os.path.exists(output_path):\n",
    "    os.makedirs(output_path)\n",
    "    \n",
    "np.save(output_path + 'word_vectors.npy', word_vectors_list)\n",
    "np.save(output_path + 'vocabs.npy', vocabs)"
   ]
  },
  {
   "attachments": {},
   "cell_type": "markdown",
   "metadata": {},
   "source": [
    "### S에 대한 키워드 유사도"
   ]
  },
  {
   "cell_type": "code",
   "execution_count": 64,
   "metadata": {},
   "outputs": [
    {
     "name": "stdout",
     "output_type": "stream",
     "text": [
      "['협력 방송', '안전 보건', '투명 거래', '협력 관리', '품질 관리', '제품 점검', '방송 법', '임 직원', '위험 평가', '파트너 경영', '임 직원', '전문 심사', '중소 협력', '분쟁 조정', '교육 지원', '화학 물질', '품질 관리', '중소기업 수출', '거래 계약', '재계약 지', '행사 지원', '자금 지원', '공정 거래', '근로자 안전', '소통 제도', '상품 모니터링', '품질 관리', '품질 관리', '정보 보안', '정보 보호', '개인정보 관리', '안전 보건', '동반 성장', '총회 협력', '점검 프로', '협력 회사', '구성원 건강', '품질 관리', '경영 내부통제', '품질 인증', '안전 보건관리', '산업 안전', '교류 활동', '파트너 개발', '품질 관리', '윤리 진단', '역량 컨설팅', '여성 임원', '자율 준수', '안전 준법', '고객 대상', '협력 관계', '매장 환경', '중소기업 판로', '공정 거래', '임 직원', '지인 거래', '임 직원']\n"
     ]
    },
    {
     "name": "stderr",
     "output_type": "stream",
     "text": [
      "c:\\Users\\MLCF\\anaconda3\\envs\\bk\\lib\\site-packages\\IPython\\core\\pylabtools.py:151: UserWarning: Glyph 8722 (\\N{MINUS SIGN}) missing from current font.\n",
      "  fig.canvas.print_figure(bytes_io, **kw)\n"
     ]
    },
    {
     "data": {
      "image/png": "[encoded data removed]",
      "text/plain": [
       "<Figure size 576x432 with 1 Axes>"
      ]
     },
     "metadata": {
      "needs_background": "light"
     },
     "output_type": "display_data"
    }
   ],
   "source": [
    "df_2['agg'] = df_2['summary'] + df_2['keyword']\n",
    "\n",
    "# sumarry와 keyword를 합쳐서 토큰화\n",
    "tokenized_doc = df_2['agg'].apply(lambda x: okt.morphs(x, stem=True)) # 토큰화\n",
    "tokenized_doc = tokenized_doc.apply(lambda x: [item for item in x if item not in stopwords]) # 불용어 제거\n",
    "\n",
    "# keyword에 대해서만 word embedding을 위해 단어 추출 및 통합 과정\n",
    "split_word = df_2['keyword'].apply(lambda x: okt.morphs(x, stem=True))\n",
    "\n",
    "# split_word의 각 행의 첫 번째, 두 번째 단어 뽑기\n",
    "split_word = split_word.apply(lambda x: x[:2])\n",
    "\n",
    "# split_word의 각 행의 단어 합치기\n",
    "split_word_agg = split_word.apply(lambda x: ' '.join(x))\n",
    "\n",
    "# tokenized_doc에 구분된 keyword 단어에 대해 다시 합치기\n",
    "for j in range(len(tokenized_doc)):\n",
    "    tokenized_doc = tokenized_doc.apply(lambda x: [split_word_agg[j] if item == split_word[j][0] or item == split_word[j][1] else item for item in x])\n",
    "\n",
    "# model 정의 : sg = 0은 CBOW, sg = 1은 Skip-gram\n",
    "model = Word2Vec(tokenized_doc, vector_size=100, window=5, min_count=1, workers=4, sg = 1)\n",
    "word_vectors = model.wv\n",
    "\n",
    "vocabs = ['협력 방송', '안전 보건', '투명 거래', '협력 관리', '품질 관리', '제품 점검', '방송 법', '임 직원', '위험 평가', '파트너 경영', '임 직원', '전문 심사', '중소 협력', '분쟁 조정', '교육 지원', '화학 물질', '품질 관리', '중소기업 수출', '거래 계약', '재계약 지', '행사 지원', '자금 지원', '공정 거래', '근로자 안전', '소통 제도', '상품 모니터링', '품질 관리', '품질 관리', '정보 보안', '정보 보호', '개인정보 관리', '안전 보건', '동반 성장', '총회 협력', '점검 프로', '협력 회사', '구성원 건강', '품질 관리', '경영 내부통제', '품질 인증', '안전 보건관리', '산업 안전', '교류 활동', '파트너 개발', '품질 관리', '윤리 진단', '역량 컨설팅', '여성 임원', '자율 준수', '안전 준법', '고객 대상', '협력 관계', '매장 환경',  '중소기업 판로', '공정 거래', '임 직원', '지인 거래', '임 직원']\n",
    "print(vocabs)\n",
    "word_vectors_list = [word_vectors[v] for v in vocabs]\n",
    "pca = PCA(n_components=2)\n",
    "xys = pca.fit_transform(word_vectors_list)\n",
    "xs = xys[:,0]\n",
    "ys = xys[:,1]\n",
    "\n",
    "# 결과\n",
    "plot_2d_graph(vocabs, xs, ys)\n",
    "\n",
    "output_path = os.getcwd() + '/disclosure/output/' + file_list[5] + '/s/'\n",
    "\n",
    "if not os.path.exists(output_path):\n",
    "    os.makedirs(output_path)\n",
    "    \n",
    "np.save(output_path + 'word_vectors.npy', word_vectors_list)\n",
    "np.save(output_path + 'vocabs.npy', vocabs)"
   ]
  },
  {
   "attachments": {},
   "cell_type": "markdown",
   "metadata": {},
   "source": [
    "### G에 대한 키워드 유사도"
   ]
  },
  {
   "cell_type": "code",
   "execution_count": 62,
   "metadata": {},
   "outputs": [
    {
     "name": "stdout",
     "output_type": "stream",
     "text": [
      "0    현대홈쇼핑은 건전하고 투명한 지배구조 확립에 대한 의지 공표 및 주주 등 모든 이해...\n",
      "Name: agg, dtype: object\n"
     ]
    },
    {
     "ename": "ValueError",
     "evalue": "n_components=2 must be between 0 and min(n_samples, n_features)=1 with svd_solver='full'",
     "output_type": "error",
     "traceback": [
      "\u001b[1;31m---------------------------------------------------------------------------\u001b[0m",
      "\u001b[1;31mValueError\u001b[0m                                Traceback (most recent call last)",
      "\u001b[1;32md:\\jyp\\kpmg_co\\1. preprocessing\\2-1. analysis dataset\\[2-3] word2Vec 기반 유사도 도출_공시.ipynb 셀 10\u001b[0m in \u001b[0;36m<cell line: 27>\u001b[1;34m()\u001b[0m\n\u001b[0;32m     <a href='vscode-notebook-cell:/d%3A/jyp/kpmg_co/1.%20preprocessing/2-1.%20analysis%20dataset/%5B2-3%5D%20word2Vec%20%EA%B8%B0%EB%B0%98%20%EC%9C%A0%EC%82%AC%EB%8F%84%20%EB%8F%84%EC%B6%9C_%EA%B3%B5%EC%8B%9C.ipynb#X12sZmlsZQ%3D%3D?line=23'>24</a>\u001b[0m word_vectors_list \u001b[39m=\u001b[39m [word_vectors[v] \u001b[39mfor\u001b[39;00m v \u001b[39min\u001b[39;00m vocabs]\n\u001b[0;32m     <a href='vscode-notebook-cell:/d%3A/jyp/kpmg_co/1.%20preprocessing/2-1.%20analysis%20dataset/%5B2-3%5D%20word2Vec%20%EA%B8%B0%EB%B0%98%20%EC%9C%A0%EC%82%AC%EB%8F%84%20%EB%8F%84%EC%B6%9C_%EA%B3%B5%EC%8B%9C.ipynb#X12sZmlsZQ%3D%3D?line=25'>26</a>\u001b[0m pca \u001b[39m=\u001b[39m PCA(n_components\u001b[39m=\u001b[39m\u001b[39m2\u001b[39m)\n\u001b[1;32m---> <a href='vscode-notebook-cell:/d%3A/jyp/kpmg_co/1.%20preprocessing/2-1.%20analysis%20dataset/%5B2-3%5D%20word2Vec%20%EA%B8%B0%EB%B0%98%20%EC%9C%A0%EC%82%AC%EB%8F%84%20%EB%8F%84%EC%B6%9C_%EA%B3%B5%EC%8B%9C.ipynb#X12sZmlsZQ%3D%3D?line=26'>27</a>\u001b[0m xys \u001b[39m=\u001b[39m pca\u001b[39m.\u001b[39;49mfit_transform(word_vectors_list)\n\u001b[0;32m     <a href='vscode-notebook-cell:/d%3A/jyp/kpmg_co/1.%20preprocessing/2-1.%20analysis%20dataset/%5B2-3%5D%20word2Vec%20%EA%B8%B0%EB%B0%98%20%EC%9C%A0%EC%82%AC%EB%8F%84%20%EB%8F%84%EC%B6%9C_%EA%B3%B5%EC%8B%9C.ipynb#X12sZmlsZQ%3D%3D?line=27'>28</a>\u001b[0m xs \u001b[39m=\u001b[39m xys[:,\u001b[39m0\u001b[39m]\n\u001b[0;32m     <a href='vscode-notebook-cell:/d%3A/jyp/kpmg_co/1.%20preprocessing/2-1.%20analysis%20dataset/%5B2-3%5D%20word2Vec%20%EA%B8%B0%EB%B0%98%20%EC%9C%A0%EC%82%AC%EB%8F%84%20%EB%8F%84%EC%B6%9C_%EA%B3%B5%EC%8B%9C.ipynb#X12sZmlsZQ%3D%3D?line=28'>29</a>\u001b[0m ys \u001b[39m=\u001b[39m xys[:,\u001b[39m1\u001b[39m]\n",
      "File \u001b[1;32mc:\\Users\\MLCF\\anaconda3\\envs\\bk\\lib\\site-packages\\sklearn\\decomposition\\_pca.py:407\u001b[0m, in \u001b[0;36mPCA.fit_transform\u001b[1;34m(self, X, y)\u001b[0m\n\u001b[0;32m    385\u001b[0m \u001b[39mdef\u001b[39;00m \u001b[39mfit_transform\u001b[39m(\u001b[39mself\u001b[39m, X, y\u001b[39m=\u001b[39m\u001b[39mNone\u001b[39;00m):\n\u001b[0;32m    386\u001b[0m \u001b[39m    \u001b[39m\u001b[39m\"\"\"Fit the model with X and apply the dimensionality reduction on X.\u001b[39;00m\n\u001b[0;32m    387\u001b[0m \n\u001b[0;32m    388\u001b[0m \u001b[39m    Parameters\u001b[39;00m\n\u001b[1;32m   (...)\u001b[0m\n\u001b[0;32m    405\u001b[0m \u001b[39m    C-ordered array, use 'np.ascontiguousarray'.\u001b[39;00m\n\u001b[0;32m    406\u001b[0m \u001b[39m    \"\"\"\u001b[39;00m\n\u001b[1;32m--> 407\u001b[0m     U, S, Vt \u001b[39m=\u001b[39m \u001b[39mself\u001b[39;49m\u001b[39m.\u001b[39;49m_fit(X)\n\u001b[0;32m    408\u001b[0m     U \u001b[39m=\u001b[39m U[:, : \u001b[39mself\u001b[39m\u001b[39m.\u001b[39mn_components_]\n\u001b[0;32m    410\u001b[0m     \u001b[39mif\u001b[39;00m \u001b[39mself\u001b[39m\u001b[39m.\u001b[39mwhiten:\n\u001b[0;32m    411\u001b[0m         \u001b[39m# X_new = X * V / S * sqrt(n_samples) = U * sqrt(n_samples)\u001b[39;00m\n",
      "File \u001b[1;32mc:\\Users\\MLCF\\anaconda3\\envs\\bk\\lib\\site-packages\\sklearn\\decomposition\\_pca.py:457\u001b[0m, in \u001b[0;36mPCA._fit\u001b[1;34m(self, X)\u001b[0m\n\u001b[0;32m    455\u001b[0m \u001b[39m# Call different fits for either full or truncated SVD\u001b[39;00m\n\u001b[0;32m    456\u001b[0m \u001b[39mif\u001b[39;00m \u001b[39mself\u001b[39m\u001b[39m.\u001b[39m_fit_svd_solver \u001b[39m==\u001b[39m \u001b[39m\"\u001b[39m\u001b[39mfull\u001b[39m\u001b[39m\"\u001b[39m:\n\u001b[1;32m--> 457\u001b[0m     \u001b[39mreturn\u001b[39;00m \u001b[39mself\u001b[39;49m\u001b[39m.\u001b[39;49m_fit_full(X, n_components)\n\u001b[0;32m    458\u001b[0m \u001b[39melif\u001b[39;00m \u001b[39mself\u001b[39m\u001b[39m.\u001b[39m_fit_svd_solver \u001b[39min\u001b[39;00m [\u001b[39m\"\u001b[39m\u001b[39marpack\u001b[39m\u001b[39m\"\u001b[39m, \u001b[39m\"\u001b[39m\u001b[39mrandomized\u001b[39m\u001b[39m\"\u001b[39m]:\n\u001b[0;32m    459\u001b[0m     \u001b[39mreturn\u001b[39;00m \u001b[39mself\u001b[39m\u001b[39m.\u001b[39m_fit_truncated(X, n_components, \u001b[39mself\u001b[39m\u001b[39m.\u001b[39m_fit_svd_solver)\n",
      "File \u001b[1;32mc:\\Users\\MLCF\\anaconda3\\envs\\bk\\lib\\site-packages\\sklearn\\decomposition\\_pca.py:475\u001b[0m, in \u001b[0;36mPCA._fit_full\u001b[1;34m(self, X, n_components)\u001b[0m\n\u001b[0;32m    471\u001b[0m         \u001b[39mraise\u001b[39;00m \u001b[39mValueError\u001b[39;00m(\n\u001b[0;32m    472\u001b[0m             \u001b[39m\"\u001b[39m\u001b[39mn_components=\u001b[39m\u001b[39m'\u001b[39m\u001b[39mmle\u001b[39m\u001b[39m'\u001b[39m\u001b[39m is only supported if n_samples >= n_features\u001b[39m\u001b[39m\"\u001b[39m\n\u001b[0;32m    473\u001b[0m         )\n\u001b[0;32m    474\u001b[0m \u001b[39melif\u001b[39;00m \u001b[39mnot\u001b[39;00m \u001b[39m0\u001b[39m \u001b[39m<\u001b[39m\u001b[39m=\u001b[39m n_components \u001b[39m<\u001b[39m\u001b[39m=\u001b[39m \u001b[39mmin\u001b[39m(n_samples, n_features):\n\u001b[1;32m--> 475\u001b[0m     \u001b[39mraise\u001b[39;00m \u001b[39mValueError\u001b[39;00m(\n\u001b[0;32m    476\u001b[0m         \u001b[39m\"\u001b[39m\u001b[39mn_components=\u001b[39m\u001b[39m%r\u001b[39;00m\u001b[39m must be between 0 and \u001b[39m\u001b[39m\"\u001b[39m\n\u001b[0;32m    477\u001b[0m         \u001b[39m\"\u001b[39m\u001b[39mmin(n_samples, n_features)=\u001b[39m\u001b[39m%r\u001b[39;00m\u001b[39m with \u001b[39m\u001b[39m\"\u001b[39m\n\u001b[0;32m    478\u001b[0m         \u001b[39m\"\u001b[39m\u001b[39msvd_solver=\u001b[39m\u001b[39m'\u001b[39m\u001b[39mfull\u001b[39m\u001b[39m'\u001b[39m\u001b[39m\"\u001b[39m \u001b[39m%\u001b[39m (n_components, \u001b[39mmin\u001b[39m(n_samples, n_features))\n\u001b[0;32m    479\u001b[0m     )\n\u001b[0;32m    480\u001b[0m \u001b[39melif\u001b[39;00m n_components \u001b[39m>\u001b[39m\u001b[39m=\u001b[39m \u001b[39m1\u001b[39m:\n\u001b[0;32m    481\u001b[0m     \u001b[39mif\u001b[39;00m \u001b[39mnot\u001b[39;00m \u001b[39misinstance\u001b[39m(n_components, numbers\u001b[39m.\u001b[39mIntegral):\n",
      "\u001b[1;31mValueError\u001b[0m: n_components=2 must be between 0 and min(n_samples, n_features)=1 with svd_solver='full'"
     ]
    }
   ],
   "source": [
    "df_3['agg'] = df_3['summary'] + df_3['keyword']\n",
    "\n",
    "print(df_3['agg'])\n",
    "# sumarry와 keyword를 합쳐서 토큰화\n",
    "tokenized_doc = df_3['agg'].apply(lambda x: okt.morphs(x, stem=True)) # 토큰화\n",
    "tokenized_doc = tokenized_doc.apply(lambda x: [item for item in x if item not in stopwords]) # 불용어 제거\n",
    "\n",
    "# keyword에 대해서만 word embedding을 위해 단어 추출 및 통합 과정\n",
    "split_word = df_3['keyword'].apply(lambda x: okt.morphs(x, stem=True))\n",
    "\n",
    "# split_word의 각 행의 첫 번째, 두 번째 단어 뽑기\n",
    "split_word = split_word.apply(lambda x: x[:2])\n",
    "\n",
    "# split_word의 각 행의 단어 합치기\n",
    "split_word_agg = split_word.apply(lambda x: ' '.join(x))\n",
    "\n",
    "# tokenized_doc에 구분된 keyword 단어에 대해 다시 합치기\n",
    "for j in range(len(tokenized_doc)):\n",
    "    tokenized_doc = tokenized_doc.apply(lambda x: [split_word_agg[j] if item == split_word[j][0] or item == split_word[j][1] else item for item in x])\n",
    "\n",
    "# model 정의 : sg = 0은 CBOW, sg = 1은 Skip-gram\n",
    "model = Word2Vec(tokenized_doc, vector_size=100, window=5, min_count=1, workers=4, sg = 1)\n",
    "word_vectors = model.wv\n",
    "\n",
    "vocabs = split_word_agg.tolist()\n",
    "word_vectors_list = [word_vectors[v] for v in vocabs]\n",
    "\n",
    "pca = PCA(n_components=2)\n",
    "xys = pca.fit_transform(word_vectors_list)\n",
    "xs = xys[:,0]\n",
    "ys = xys[:,1]\n",
    "\n",
    "# 결과\n",
    "plot_2d_graph(vocabs, xs, ys)\n",
    "\n",
    "output_path = os.getcwd() + '/disclosure/output/' + file_list[1] + '/g/'\n",
    "\n",
    "if not os.path.exists(output_path):\n",
    "    os.makedirs(output_path)\n",
    "    \n",
    "np.save(output_path + 'word_vectors.npy', word_vectors_list)\n",
    "np.save(output_path + 'vocabs.npy', vocabs)"
   ]
  }
 ],
 "metadata": {
  "kernelspec": {
   "display_name": "bk",
   "language": "python",
   "name": "python3"
  },
  "language_info": {
   "codemirror_mode": {
    "name": "ipython",
    "version": 3
   },
   "file_extension": ".py",
   "mimetype": "text/x-python",
   "name": "python",
   "nbconvert_exporter": "python",
   "pygments_lexer": "ipython3",
   "version": "3.8.13"
  },
  "orig_nbformat": 4,
  "vscode": {
   "interpreter": {
    "hash": "5bee82f1aa4c2a7f2905b2bb19edba8ddd243e499f23a2172eda27cb9b9b8967"
   }
  }
 },
 "nbformat": 4,
 "nbformat_minor": 2
}
