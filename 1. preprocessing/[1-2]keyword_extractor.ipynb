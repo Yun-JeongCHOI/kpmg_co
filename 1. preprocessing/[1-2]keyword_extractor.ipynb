{
 "cells": [
  {
   "attachments": {},
   "cell_type": "markdown",
   "metadata": {},
   "source": [
    "Import modules"
   ]
  },
  {
   "cell_type": "code",
   "execution_count": 15,
   "metadata": {},
   "outputs": [],
   "source": [
    "import pandas as pd\n",
    "import os"
   ]
  },
  {
   "attachments": {},
   "cell_type": "markdown",
   "metadata": {},
   "source": [
    "공시 데이터 추출된 파일 불러오기"
   ]
  },
  {
   "cell_type": "code",
   "execution_count": 16,
   "metadata": {},
   "outputs": [],
   "source": [
    "# 추출된 파일 불러오기\n",
    "\n",
    "path = './1-2. ESG report/output/'\n",
    "file_list = os.listdir(path)\n",
    "# 이중 공시 데이터만 가져옴\n",
    "file_list = [file for file in file_list if file.startswith(\"ESG_text\")]"
   ]
  },
  {
   "cell_type": "code",
   "execution_count": 42,
   "metadata": {},
   "outputs": [
    {
     "data": {
      "text/plain": [
       "['ESG_text_GSretail_2023.csv',\n",
       " 'ESG_text_hyundaehomeshopping_2023.csv',\n",
       " 'ESG_text_LGlife_2023.csv',\n",
       " 'ESG_text_lottehi_2023.csv',\n",
       " 'ESG_text_sinsegye_2023.csv']"
      ]
     },
     "execution_count": 42,
     "metadata": {},
     "output_type": "execute_result"
    }
   ],
   "source": [
    "file_list"
   ]
  },
  {
   "cell_type": "code",
   "execution_count": 17,
   "metadata": {},
   "outputs": [],
   "source": [
    "# 키워드 코퍼스 가져오기\n",
    "path = './1-2. ESG report/output/'\n",
    "corpus = pd.read_csv(path + 'corpus_esg_keyword_v2.csv')"
   ]
  },
  {
   "cell_type": "code",
   "execution_count": 52,
   "metadata": {},
   "outputs": [],
   "source": [
    "for file in file_list:\n",
    "    df = pd.read_csv(path + '{}'.format(file))\n",
    "    name = file.replace('ESG_text_', '')\n",
    "\n",
    "    # 기업별 키워드 + 추출문장 df 만들기\n",
    "    out = pd.DataFrame(columns=['keyword', 'text', 'label'])\n",
    "\n",
    "    for _, keyword in corpus.iterrows():\n",
    "        temp = pd.DataFrame(columns=['keyword', 'text', 'label'])\n",
    "        temp = temp.append(df[ df['text'].str.contains(c['word'])])\n",
    "        temp = temp.append(df[df['label']==c['label']])\n",
    "        temp = temp[temp.duplicated()]\n",
    "        if len(temp)>0:\n",
    "            out = pd.concat([out,temp])\n",
    "            out.iloc[len(out)-1,0] = keyword['word']\n",
    "    \n",
    "    out.fillna(method='bfill', inplace=True)\n",
    "    \n",
    "    # output 폴더 없으면 만들기 \n",
    "    if not os.path.isdir(path + 'output/'):\n",
    "        os.mkdir(path + 'output/')\n",
    "    out.to_csv(path+name, index=False, encoding='utf-8-sig')"
   ]
  }
 ],
 "metadata": {
  "kernelspec": {
   "display_name": "Python 3",
   "language": "python",
   "name": "python3"
  },
  "language_info": {
   "codemirror_mode": {
    "name": "ipython",
    "version": 3
   },
   "file_extension": ".py",
   "mimetype": "text/x-python",
   "name": "python",
   "nbconvert_exporter": "python",
   "pygments_lexer": "ipython3",
   "version": "3.7.6"
  },
  "orig_nbformat": 4,
  "vscode": {
   "interpreter": {
    "hash": "ec8dee48dbbcaba4ab33c211cc3985cb6ada4ac8ebaeb72c3fb14197585c2120"
   }
  }
 },
 "nbformat": 4,
 "nbformat_minor": 2
}
