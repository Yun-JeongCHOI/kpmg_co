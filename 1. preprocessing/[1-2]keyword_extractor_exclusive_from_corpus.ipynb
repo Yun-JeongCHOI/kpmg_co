{
 "cells": [
  {
   "attachments": {},
   "cell_type": "markdown",
   "metadata": {},
   "source": [
    "Import modules"
   ]
  },
  {
   "cell_type": "code",
   "execution_count": 6,
   "metadata": {},
   "outputs": [],
   "source": [
    "import pandas as pd\n",
    "import os"
   ]
  },
  {
   "attachments": {},
   "cell_type": "markdown",
   "metadata": {},
   "source": [
    "공시 데이터 추출된 파일 불러오기"
   ]
  },
  {
   "cell_type": "code",
   "execution_count": 7,
   "metadata": {},
   "outputs": [],
   "source": [
    "# 추출된 파일 불러오기\n",
    "\n",
    "path = './1-2. ESG report/output/'\n",
    "file_list = os.listdir(path)\n",
    "# 이중 공시 데이터만 가져옴\n",
    "file_list = [file for file in file_list if file.startswith(\"ESG_text\")]"
   ]
  },
  {
   "cell_type": "code",
   "execution_count": 9,
   "metadata": {},
   "outputs": [],
   "source": [
    "# 키워드 코퍼스 가져오기\n",
    "path = './1-2. ESG report/'\n",
    "dir = 'output/'\n",
    "corpus = pd.read_csv(path + dir +'corpus_esg_keyword_v2.2.csv')"
   ]
  },
  {
   "cell_type": "code",
   "execution_count": 10,
   "metadata": {},
   "outputs": [],
   "source": [
    "for file in file_list:\n",
    "    df = pd.read_csv(path+dir + '{}'.format(file))\n",
    "    name = file.replace('ESG_text_', '')\n",
    "\n",
    "    # 기업별 키워드 + 추출문장 df 만들기\n",
    "    out = pd.DataFrame(columns=['keyword', 'text', 'label'])\n",
    "\n",
    "    for _, keyword in corpus.iterrows():\n",
    "        ext = pd.DataFrame(columns=['keyword', 'text', 'label'])\n",
    "        for key in keyword['word'].split('/'):\n",
    "            temp = pd.DataFrame(columns=['keyword', 'text', 'label'])\n",
    "            temp = pd.concat([temp, df[ df['text'].str.contains(key)]])\n",
    "            temp = pd.concat([temp, df[df['label']==keyword['label']]])\n",
    "            ext = pd.concat([ext,temp[temp.duplicated()]])\n",
    "        ext = ext.drop_duplicates()\n",
    "        if len(ext)>0:\n",
    "            out = pd.concat([out,ext])\n",
    "            out.iloc[len(out)-1,0] = keyword['word']\n",
    "            df = df.drop(ext.index)\n",
    "    \n",
    "    out.fillna(method='bfill', inplace=True)\n",
    "    \n",
    "    # output 폴더 없으면 만들기 \n",
    "    if not os.path.isdir(path + 'output/'):\n",
    "        os.mkdir(path + 'output/')\n",
    "    out.to_csv(path+dir+'extracted_'+name, index=False, encoding='utf-8-sig')"
   ]
  }
 ],
 "metadata": {
  "kernelspec": {
   "display_name": "Python 3",
   "language": "python",
   "name": "python3"
  },
  "language_info": {
   "codemirror_mode": {
    "name": "ipython",
    "version": 3
   },
   "file_extension": ".py",
   "mimetype": "text/x-python",
   "name": "python",
   "nbconvert_exporter": "python",
   "pygments_lexer": "ipython3",
   "version": "3.10.1"
  },
  "orig_nbformat": 4,
  "vscode": {
   "interpreter": {
    "hash": "409c8e0681c9284bc50ce6fb5bfd49c2f62d644bf39f045d0840112257281539"
   }
  }
 },
 "nbformat": 4,
 "nbformat_minor": 2
}
