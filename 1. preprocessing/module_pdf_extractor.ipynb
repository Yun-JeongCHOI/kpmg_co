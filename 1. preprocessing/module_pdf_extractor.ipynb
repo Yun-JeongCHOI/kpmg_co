{
 "cells": [
  {
   "cell_type": "code",
   "execution_count": 1,
   "metadata": {},
   "outputs": [],
   "source": [
    "from adobe.pdfservices.operation.auth.credentials import Credentials\n",
    "from adobe.pdfservices.operation.exception.exceptions import ServiceApiException, ServiceUsageException, SdkException\n",
    "from adobe.pdfservices.operation.execution_context import ExecutionContext\n",
    "from adobe.pdfservices.operation.io.file_ref import FileRef\n",
    "from adobe.pdfservices.operation.pdfops.extract_pdf_operation import ExtractPDFOperation\n",
    "from adobe.pdfservices.operation.pdfops.options.extractpdf.extract_pdf_options import ExtractPDFOptions\n",
    "from adobe.pdfservices.operation.pdfops.options.extractpdf.extract_element_type import ExtractElementType\n",
    "\n",
    "import os\n",
    "import zipfile\n",
    "import json\n",
    "import pandas as pd"
   ]
  },
  {
   "cell_type": "code",
   "execution_count": null,
   "metadata": {},
   "outputs": [],
   "source": [
    "def extract_pdf(path, dir, input_pdf_list, zip_file_name_list):\n",
    "    \n",
    "    for i in range(len(input_pdf_list)):\n",
    "    \n",
    "        # 파일 불러오기 \n",
    "        zip_file = path + \"ExtractTextInfoFromPDF_{}.zip\".format(zip_file_name_list[i])\n",
    "\n",
    "        if os.path.isfile(zip_file):\n",
    "            os.remove(zip_file)\n",
    "\n",
    "        input_pdf = path +\"esg_report/{}\".format(input_pdf_list[i])\n",
    "    \n",
    "        #Initial setup, create credentials instance.\n",
    "        credentials = Credentials.service_account_credentials_builder()\\\n",
    "        .from_file(path+\"adobe-dc-pdf-services-sdk-extract-python-samples/pdfservices-api-credentials.json\") \\\n",
    "        .build()\n",
    "\n",
    "        #Create an ExecutionContext using credentials and create a new operation instance.\n",
    "        execution_context = ExecutionContext.create(credentials)\n",
    "    \n",
    "        extract_pdf_operation = ExtractPDFOperation.create_new()\n",
    "\n",
    "        #Set operation input from a source file.\n",
    "        source = FileRef.create_from_local_file(input_pdf)\n",
    "        extract_pdf_operation.set_input(source)\n",
    "\n",
    "        #Build ExtractPDF options and set them into the operation\n",
    "        extract_pdf_options: ExtractPDFOptions = ExtractPDFOptions.builder() \\\n",
    "        .with_element_to_extract(ExtractElementType.TEXT) \\\n",
    "        .build()\n",
    "        extract_pdf_operation.set_options(extract_pdf_options)\n",
    "    \n",
    "        #Execute the operation.\n",
    "        result: FileRef = extract_pdf_operation.execute(execution_context)\n",
    "\n",
    "        #Save the result to the specified location.\n",
    "        result.save_as(zip_file)"
   ]
  },
  {
   "cell_type": "code",
   "execution_count": null,
   "metadata": {},
   "outputs": [],
   "source": [
    "def json_to_csv(path, dir, name):\n",
    "    output_zip = path +\"ExtractTextInfoFromPDF_{}.zip\".format(name)\n",
    "    archive = zipfile.ZipFile(output_zip, 'r')\n",
    "    jsonentry = archive.open('structuredData.json')\n",
    "    jsondata = jsonentry.read()\n",
    "    data = json.loads(jsondata)\n",
    "    return data"
   ]
  }
 ],
 "metadata": {
  "kernelspec": {
   "display_name": "Python 3",
   "language": "python",
   "name": "python3"
  },
  "language_info": {
   "codemirror_mode": {
    "name": "ipython",
    "version": 3
   },
   "file_extension": ".py",
   "mimetype": "text/x-python",
   "name": "python",
   "nbconvert_exporter": "python",
   "pygments_lexer": "ipython3",
   "version": "3.7.6"
  },
  "orig_nbformat": 4,
  "vscode": {
   "interpreter": {
    "hash": "ec8dee48dbbcaba4ab33c211cc3985cb6ada4ac8ebaeb72c3fb14197585c2120"
   }
  }
 },
 "nbformat": 4,
 "nbformat_minor": 2
}
